{
 "cells": [
  {
   "cell_type": "markdown",
   "metadata": {},
   "source": [
    "#### Day 2 - B\n",
    "Determine how many rows are \"safe\" using the following criteria:\n",
    "* All numbers in the row are either all ascending or descending\n",
    "* Each number is between 1-3 higher/lower than the previous\n",
    "* One error is allowed per line"
   ]
  },
  {
   "cell_type": "code",
   "execution_count": 26,
   "metadata": {},
   "outputs": [],
   "source": [
    "#Import Libraries and settings\n",
    "\n",
    "settings = {\n",
    "    \"day\": 2,\n",
    "    \"test_data\": 0\n",
    "}"
   ]
  },
  {
   "cell_type": "code",
   "execution_count": 27,
   "metadata": {},
   "outputs": [],
   "source": [
    "#Load Input\n",
    "def load_input(settings):\n",
    "    #Derrive input file name\n",
    "    if settings[\"test_data\"]:\n",
    "        data_subdir = \"test\"\n",
    "    else:\n",
    "        data_subdir = \"actual\"\n",
    "\n",
    "    data_fp = f\"./../input/{data_subdir}/{settings[\"day\"]}.txt\"\n",
    "\n",
    "    #Open and read the file\n",
    "    with open(data_fp) as f:\n",
    "        lines = f.read().split('\\n')\n",
    "\n",
    "    #Split each line by numbers and convert to numeric values\n",
    "    lines = [x.split(\" \") for x in lines]\n",
    "    lines = [[int(y) for y in line] for line in lines]\n",
    "\n",
    "    return lines\n",
    "\n",
    "data_in = load_input(settings)"
   ]
  },
  {
   "cell_type": "code",
   "execution_count": 28,
   "metadata": {},
   "outputs": [
    {
     "name": "stdout",
     "output_type": "stream",
     "text": [
      "[[44, 47, 50, 51, 53, 54, 53], [70, 73, 75, 77, 80, 81, 84, 84], [1, 3, 4, 7, 10, 13, 16, 20], [47, 49, 52, 53, 55, 57, 60, 65], [69, 70, 71, 70, 71]]\n"
     ]
    }
   ],
   "source": [
    "print(data_in[0:5])"
   ]
  },
  {
   "cell_type": "code",
   "execution_count": 31,
   "metadata": {},
   "outputs": [],
   "source": [
    "#Compare two numbers to check which is bigger\n",
    "def compare_nums(x, y):\n",
    "    if x < y:\n",
    "        return 1\n",
    "    elif x > y:\n",
    "        return -1\n",
    "    #If x = y then return 0\n",
    "    else:\n",
    "        return 0\n",
    "\n",
    "#Determine the direction of the list by sampling 4 items in the list\n",
    "def determine_dir(nums):\n",
    "    #Evaluate each subset of 3 seperately\n",
    "    votes = []\n",
    "    for i in range(0, 4):\n",
    "        #Create sublist excluding element i\n",
    "        sublist = nums[0:i] + nums[i+1:4]\n",
    "\n",
    "        #Process sublist for direction\n",
    "        #Step 1 is the first item compared to the second\n",
    "        step_1 = compare_nums(sublist[0], sublist[1])\n",
    "        #Step 2 is the second item compared to the third\n",
    "        step_2 = compare_nums(sublist[1], sublist[2])\n",
    "\n",
    "        #If step 1 and step 2 agree then the vote is 2 or -2\n",
    "        #If they disagree then the vote is 0\n",
    "        #If step 1 has a direction and step 2 does not, use step 1 as the vote\n",
    "        #If neither step 1 or step 2 has a direction then the vote is 0\n",
    "        votes.append(step_1+step_2)\n",
    "\n",
    "    #Sum the votes from the subsets to see what the dominant direction is\n",
    "    res = sum(votes)\n",
    "\n",
    "    #Normalise result to 1, -1, or 0\n",
    "    return compare_nums(0, res)\n",
    "\n",
    "#Evaluate if the difference in magnitude between 2 numbers is allowed\n",
    "def check_difference(x, y, dir, low=1, high=3):\n",
    "    diff = (y - x)*dir\n",
    "    if diff < low or diff > high:\n",
    "        return False\n",
    "    else:\n",
    "        return True\n",
    "\n",
    "#Process a line to determine if a line is safe\n",
    "def process_line(line, allow_errs=False, dir=None):\n",
    "\n",
    "    #Determine the direction for the line\n",
    "    if dir is None:\n",
    "        dir = determine_dir(line[0:4])\n",
    "\n",
    "    #If no conclusive direction, row cannot be \"safe\"\n",
    "    if dir == 0:\n",
    "        return False\n",
    "\n",
    "    #Iterate through nums\n",
    "    for idx, num in enumerate(line):\n",
    "        #First number can't fail\n",
    "        if idx == 0:\n",
    "            prev = num\n",
    "        else:\n",
    "            #Check the current number is between 1 and 3 higher/lower than the previous\n",
    "            if not check_difference(prev, num, dir):\n",
    "                #If enabled, remove potential errorous figures and check the remaining list\n",
    "                if allow_errs:\n",
    "                    #If this is the final element of the list then assumed true\n",
    "                    if idx == len(line) - 1:\n",
    "                        return True\n",
    "\n",
    "                    #Check the remainder of the list with the dampening adjustment\n",
    "                    #Do this but considering the remainder of the list which each potential errorous number missing\n",
    "                    #If the previous number is being removed (sublist_2) \n",
    "                    # then the current num needs to be compared with the second previous number (prefix_2)\n",
    "                    # If the error is between the first and second number in the list (idx == 1), \n",
    "                    # the second number becomes the first in the list and does not need to be compared with earlier elements\n",
    "                    if idx == 1:\n",
    "                        prefix_2 = [num]\n",
    "                    else:\n",
    "                        prefix_2 = [line[idx-2], num]\n",
    "                    \n",
    "                    sublist_1 = [prev] + line[idx+1:]\n",
    "                    sublist_2 = prefix_2 + line[idx+1:]\n",
    "\n",
    "                    #Process the remainder of the potential lists and check if either gives a valid solution\n",
    "                    #Since an infraction was already found, allow_errs is set to False here\n",
    "                    if (\n",
    "                        process_line(sublist_1, dir=dir, allow_errs=False) \n",
    "                        or process_line(sublist_2, dir=dir, allow_errs=False)\n",
    "                        ):\n",
    "                        return True\n",
    "                    \n",
    "                return False\n",
    "          \n",
    "            #Set prev for the next loop iteration\n",
    "            prev = num\n",
    "\n",
    "    #If the code processes the entire loop, the line is \"safe\"\n",
    "    return True\n",
    "\n",
    "def process_input(lines):\n",
    "    #Process each line and count the safe rows\n",
    "    count = 0\n",
    "\n",
    "    for idx, line in enumerate(lines):\n",
    "        res = process_line(line, allow_errs=True)\n",
    "        count += int(res)\n",
    "\n",
    "    return count"
   ]
  },
  {
   "cell_type": "code",
   "execution_count": 32,
   "metadata": {},
   "outputs": [
    {
     "name": "stdout",
     "output_type": "stream",
     "text": [
      "621\n"
     ]
    }
   ],
   "source": [
    "print(process_input(data_in))"
   ]
  }
 ],
 "metadata": {
  "kernelspec": {
   "display_name": "base",
   "language": "python",
   "name": "python3"
  },
  "language_info": {
   "codemirror_mode": {
    "name": "ipython",
    "version": 3
   },
   "file_extension": ".py",
   "mimetype": "text/x-python",
   "name": "python",
   "nbconvert_exporter": "python",
   "pygments_lexer": "ipython3",
   "version": "3.12.4"
  }
 },
 "nbformat": 4,
 "nbformat_minor": 2
}
