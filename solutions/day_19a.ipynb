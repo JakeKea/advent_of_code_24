{
 "cells": [
  {
   "cell_type": "markdown",
   "metadata": {},
   "source": [
    "#### Day 19 - A\n",
    "Check which designs can be made using combinations of different towels."
   ]
  },
  {
   "cell_type": "code",
   "execution_count": 9,
   "metadata": {},
   "outputs": [],
   "source": [
    "#Import Libraries and settings\n",
    "from copy import deepcopy\n",
    "\n",
    "settings = {\n",
    "    \"day\": 19,\n",
    "    \"test_data\": 0\n",
    "}"
   ]
  },
  {
   "cell_type": "code",
   "execution_count": 10,
   "metadata": {},
   "outputs": [],
   "source": [
    "#Load Input\n",
    "def load_input(settings):\n",
    "    #Derrive input file name\n",
    "    if settings[\"test_data\"]:\n",
    "        data_subdir = \"test\"\n",
    "    else:\n",
    "        data_subdir = \"actual\"\n",
    "\n",
    "    data_fp = f\"./../input/{data_subdir}/{settings[\"day\"]}.txt\"\n",
    "\n",
    "    #Open and read the file\n",
    "    with open(data_fp) as f:\n",
    "        lines = f.read().split('\\n')\n",
    "\n",
    "    towels = lines[0].split(\", \")\n",
    "\n",
    "    #Convert towels into dictionary grouped by the first character\n",
    "    tlu = {}\n",
    "    for towel in towels:\n",
    "        start = towel[0]\n",
    "        if start not in tlu.keys():\n",
    "            tlu[start] = [towel]\n",
    "        else:\n",
    "            tlu[start].append(towel)\n",
    "\n",
    "    designs = lines[2:]\n",
    "\n",
    "    return towels, tlu, designs\n",
    "\n",
    "towels, tlu, designs = load_input(settings)"
   ]
  },
  {
   "cell_type": "code",
   "execution_count": 11,
   "metadata": {},
   "outputs": [],
   "source": [
    "#Attempt to recursively make the design from towels\n",
    "def match_design(tlu, design):\n",
    "\n",
    "    #Get the next character in the design\n",
    "    next_char = design[0]\n",
    "    remaining_design = len(design)\n",
    "\n",
    "    #Check there are towels starting with this pattern\n",
    "    if next_char not in tlu.keys():\n",
    "        return False\n",
    "\n",
    "    #Try all possible options\n",
    "    for towel in tlu[next_char]:\n",
    "        #If this towel matches the next few characters of the design\n",
    "        if len(towel) < remaining_design:\n",
    "            if towel == design[0:len(towel)]:\n",
    "                res = match_design(tlu, design[len(towel):])\n",
    "                if res:\n",
    "                    return towel + res\n",
    "\n",
    "\n",
    "        #If this towel matches the rest of the design    \n",
    "        elif len(towel) == remaining_design:\n",
    "            if towel == design:\n",
    "                return towel\n",
    "            \n",
    "    return False"
   ]
  },
  {
   "cell_type": "code",
   "execution_count": 12,
   "metadata": {},
   "outputs": [],
   "source": [
    "#Get all towels of a given length\n",
    "#When exact is false it also returns towels shorter than the specified length\n",
    "def all_towels_of_len_n(tlu, length, exact=True):\n",
    "    matches = []\n",
    "\n",
    "    #Get all towels of the required length\n",
    "    for key in tlu.keys():\n",
    "        for towel in tlu[key]:\n",
    "            if exact:\n",
    "                if len(towel) == length:\n",
    "                    matches.append(towel)\n",
    "            else:\n",
    "                if len(towel) <= length:\n",
    "                    matches.append(towel)\n",
    "\n",
    "    #If exact is False, return towels as a dictionary grouped by length\n",
    "    if exact == False:\n",
    "        tlu_p = {}\n",
    "        for piece in matches:\n",
    "            start = piece[0]\n",
    "            if start not in tlu_p.keys():\n",
    "                tlu_p[start] = [piece]\n",
    "            else:\n",
    "                tlu_p[start].append(piece)\n",
    "        return tlu_p\n",
    "    else:\n",
    "        return matches\n",
    "\n",
    "#Convert a full towel lookup\n",
    "def rebuild(tlu, max=8, status=True):\n",
    "\n",
    "    if status:\n",
    "        print(\"Rebuilding towel lookup dictionary...\")\n",
    "\n",
    "    #Create a copy to avoid overwriting the original\n",
    "    tl2 = deepcopy(tlu)\n",
    "\n",
    "    #For each possible towel length (in ascending order)\n",
    "    for length in range(2, max+1):\n",
    "        redundant_towels = []\n",
    "        #Get all towels of current length\n",
    "        towel_targets = all_towels_of_len_n(tl2, length, exact=True)\n",
    "        #Get all towels of a shorter length\n",
    "        towel_pieces = all_towels_of_len_n(tl2, length-1, exact=False)\n",
    "\n",
    "        #For each towel or the specified length\n",
    "        for target in towel_targets:\n",
    "            #Attempt to make the towel using smaller ones\n",
    "            if match_design(towel_pieces, target):\n",
    "                #If the towel can be made from smaller towels, it is redundant\n",
    "                redundant_towels.append(target)\n",
    "\n",
    "        #Remove redundant towels from tlu\n",
    "        for key in tl2.keys():\n",
    "            tl2[key] = list(filter(lambda x: x not in redundant_towels, tl2[key]))\n",
    "        \n",
    "        #Print processing status\n",
    "        if status:\n",
    "            print(\"Towels of length\", length, \"processed.\")\n",
    "\n",
    "    if status:\n",
    "        print()\n",
    "    return tl2"
   ]
  },
  {
   "cell_type": "code",
   "execution_count": 15,
   "metadata": {},
   "outputs": [],
   "source": [
    "def count_possible_designs(towel_lookup, designs, status=True):\n",
    "    count = 0\n",
    "\n",
    "    if status:\n",
    "        print(\"Processing\", len(designs), \"designs:\")\n",
    "\n",
    "    #For each design, check if it can be made using the towel lookup dict\n",
    "    for idx, design in enumerate(designs):\n",
    "        if status and idx%100 == 0:\n",
    "            print(\"Processing design\", str(idx)+\"...\")\n",
    "\n",
    "        res = match_design(towel_lookup, design)\n",
    "        if res:\n",
    "            count += 1\n",
    "\n",
    "    return count"
   ]
  },
  {
   "cell_type": "code",
   "execution_count": 16,
   "metadata": {},
   "outputs": [
    {
     "name": "stdout",
     "output_type": "stream",
     "text": [
      "Rebuilding towel lookup dictionary...\n",
      "Towels of length 2 processed.\n",
      "Towels of length 3 processed.\n",
      "Towels of length 4 processed.\n",
      "Towels of length 5 processed.\n",
      "Towels of length 6 processed.\n",
      "Towels of length 7 processed.\n",
      "Towels of length 8 processed.\n",
      "\n",
      "Processing 400 designs:\n",
      "Processing design 0...\n",
      "Processing design 100...\n",
      "Processing design 200...\n",
      "Processing design 300...\n",
      "311\n"
     ]
    }
   ],
   "source": [
    "tl2 = deepcopy(tlu)\n",
    "tl2 = rebuild(tl2)\n",
    "print(count_possible_designs(tl2, designs))"
   ]
  },
  {
   "cell_type": "code",
   "execution_count": 17,
   "metadata": {},
   "outputs": [
    {
     "name": "stdout",
     "output_type": "stream",
     "text": [
      "r ['rg', 'rr', 'rb', 'rw', 'ru', 'rbr', 'rgr', 'rrr', 'rwr', 'rur', 'rbur', 'rgur', 'rwbwwur']\n",
      "g ['g', 'gr', 'gur', 'gwwur']\n",
      "w ['w', 'wr']\n",
      "b ['b', 'br', 'bur', 'bwur', 'bbwgwur']\n",
      "u ['u', 'uur', 'uwur', 'ugwur']\n"
     ]
    }
   ],
   "source": [
    "for key in tl2.keys():\n",
    "    tl2[key] = sorted(tl2[key], key=len)\n",
    "    print(key, tl2[key])"
   ]
  }
 ],
 "metadata": {
  "kernelspec": {
   "display_name": "base",
   "language": "python",
   "name": "python3"
  },
  "language_info": {
   "codemirror_mode": {
    "name": "ipython",
    "version": 3
   },
   "file_extension": ".py",
   "mimetype": "text/x-python",
   "name": "python",
   "nbconvert_exporter": "python",
   "pygments_lexer": "ipython3",
   "version": "3.12.7"
  }
 },
 "nbformat": 4,
 "nbformat_minor": 2
}
