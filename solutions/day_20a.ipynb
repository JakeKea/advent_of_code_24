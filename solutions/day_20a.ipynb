{
 "cells": [
  {
   "cell_type": "markdown",
   "metadata": {},
   "source": [
    "#### Day 20 - A\n",
    "\n",
    "Find number of solutions that save 100 steps if allowed to cheat for 2 steps"
   ]
  },
  {
   "cell_type": "code",
   "execution_count": 1,
   "metadata": {},
   "outputs": [],
   "source": [
    "#Import Libraries and settings\n",
    "from copy import deepcopy\n",
    "import bisect\n",
    "\n",
    "settings = {\n",
    "    \"day\": 20,\n",
    "    \"test_data\": 0\n",
    "}"
   ]
  },
  {
   "cell_type": "code",
   "execution_count": 2,
   "metadata": {},
   "outputs": [],
   "source": [
    "#Load Input\n",
    "def load_input(settings):\n",
    "    #Derrive input file name\n",
    "    if settings[\"test_data\"]:\n",
    "        data_subdir = \"test\"\n",
    "    else:\n",
    "        data_subdir = \"actual\"\n",
    "\n",
    "    data_fp = f\"./../input/{data_subdir}/{settings[\"day\"]}.txt\"\n",
    "\n",
    "    #Open and read the file\n",
    "    with open(data_fp) as f:\n",
    "        lines = f.read().split('\\n')\n",
    "\n",
    "    grid = []\n",
    "    for idx_y, line in enumerate(lines):\n",
    "        if \"S\" in line:\n",
    "            starting_loc = (line.index(\"S\"), idx_y)\n",
    "        if \"E\" in line:\n",
    "            ending_loc = (line.index(\"E\"), idx_y)\n",
    "        grid.append(list(line))\n",
    "\n",
    "    grid_dimens = (len(lines[0]), len(lines))\n",
    "\n",
    "    return grid, grid_dimens, starting_loc, ending_loc\n",
    "\n",
    "GRID_BASE, GRID_DIMENSIONS, START_LOC, END_LOC = load_input(settings)"
   ]
  },
  {
   "cell_type": "code",
   "execution_count": 3,
   "metadata": {},
   "outputs": [],
   "source": [
    "#Convert compass direction into a dir tuple\n",
    "def translate_step(dir_g, mag=1):\n",
    "    v = 0\n",
    "    h = 0\n",
    "\n",
    "    if \"^\" in dir_g:\n",
    "        v = -mag\n",
    "    elif \"v\" in dir_g:\n",
    "        v = mag\n",
    "\n",
    "    if \">\" in dir_g:\n",
    "        h = mag\n",
    "    elif \"<\" in dir_g:\n",
    "        h = -mag\n",
    "\n",
    "    return (h, v)\n",
    "\n",
    "#Apply a direction to a location\n",
    "def apply_move(loc, dir, mag=1):\n",
    "    step = translate_step(dir, mag)\n",
    "    return (loc[0]+step[0], loc[1]+step[1])\n",
    "\n",
    "#Get all neighbours to consider for a space\n",
    "def get_neighbours(grid, loc, history, targets=[\"#\"], cheat_max=0):\n",
    "    dirs = [\"^\", \">\", \"v\", \"<\"]\n",
    "    nbs = []\n",
    "    base_cost = history[loc]\n",
    "\n",
    "    for pos_dir in dirs:\n",
    "        next_loc = apply_move(loc, pos_dir)\n",
    "        if (\n",
    "            next_loc[0] >= 0 and \n",
    "            next_loc[0] < GRID_DIMENSIONS[0] and\n",
    "            next_loc[1] >= 0 and\n",
    "            next_loc[1] < GRID_DIMENSIONS[1]):\n",
    "            if next_loc not in history.keys():\n",
    "                next_cost = base_cost + 1\n",
    "                if (grid[next_loc[1]][next_loc[0]] not in targets) or next_cost <= cheat_max:\n",
    "                    history[next_loc] = next_cost\n",
    "                    nbs.append((next_loc, next_cost))\n",
    "\n",
    "    return nbs"
   ]
  },
  {
   "cell_type": "code",
   "execution_count": 4,
   "metadata": {},
   "outputs": [],
   "source": [
    "#Algorithm to find the minimum path between S and E\n",
    "def breadth_first(grid=deepcopy(GRID_BASE), starting_loc=START_LOC, end_loc=END_LOC, cheat=None):\n",
    "\n",
    "    history = {starting_loc:0}\n",
    "    queue = [(starting_loc, 0)]\n",
    "\n",
    "    if cheat is not None:\n",
    "        grid[cheat[1]][cheat[0]] = \".\"\n",
    "    \n",
    "    while queue:\n",
    "        next_move = queue[0]\n",
    "        loc = next_move[0]\n",
    "        queue.pop(0)\n",
    "\n",
    "        nbs = get_neighbours(grid, loc, history)\n",
    "        for future_move in nbs:\n",
    "            if future_move[0] == end_loc:\n",
    "                return history, future_move[1]\n",
    "            bisect.insort(queue, future_move, key=lambda x:x[1])\n",
    "\n",
    "    return False"
   ]
  },
  {
   "cell_type": "code",
   "execution_count": 5,
   "metadata": {},
   "outputs": [
    {
     "name": "stdout",
     "output_type": "stream",
     "text": [
      "9380\n"
     ]
    }
   ],
   "source": [
    "#Get the solution without cheating\n",
    "history, honest_sol = breadth_first()\n",
    "print(honest_sol)"
   ]
  },
  {
   "cell_type": "code",
   "execution_count": 6,
   "metadata": {},
   "outputs": [],
   "source": [
    "#Create dictionary with distance from E for each space\n",
    "cheat_lookup = {}\n",
    "for key in history.keys():\n",
    "    cheat_lookup[key] = (history[key], honest_sol-history[key])"
   ]
  },
  {
   "cell_type": "code",
   "execution_count": 7,
   "metadata": {},
   "outputs": [],
   "source": [
    "#Get all movement deltas from n steps\n",
    "def get_deltas_for_n(n):\n",
    "    deltas = set()\n",
    "\n",
    "    #For each length up to n\n",
    "    for j in range(1, n+1):\n",
    "        xy_mags = []\n",
    "        #Get all moves with positive x and y\n",
    "        for i in range(j):\n",
    "            xy_mags.append((i, j-i))\n",
    "            xy_mags.append((j-i, i))\n",
    "\n",
    "        #Record a version for positive and negative x and y for different directions\n",
    "        for mag in xy_mags:\n",
    "            deltas.add(((mag[0], mag[1]), j))\n",
    "            deltas.add(((mag[0], -mag[1]), j))\n",
    "            deltas.add(((-mag[0], mag[1]), j))\n",
    "            deltas.add(((-mag[0], -mag[1]), j))\n",
    "\n",
    "    return deltas\n",
    "\n",
    "#Get all spaces reachable using a set of delta movements\n",
    "def spaces_for_cheat(loc, deltas, cheat_lookup):\n",
    "    spaces = []\n",
    "    for delta in deltas:\n",
    "        new_loc = (loc[0] + delta[0][0], loc[1] + delta[0][1])\n",
    "        #Check new location is on the track (Not a wall)\n",
    "        if new_loc in cheat_lookup.keys():\n",
    "            spaces.append((new_loc, delta[1]))\n",
    "\n",
    "    return spaces"
   ]
  },
  {
   "cell_type": "code",
   "execution_count": 8,
   "metadata": {},
   "outputs": [
    {
     "name": "stdout",
     "output_type": "stream",
     "text": [
      "0 processed\n",
      "500 processed\n",
      "1000 processed\n",
      "1500 processed\n",
      "2000 processed\n",
      "2500 processed\n",
      "3000 processed\n",
      "3500 processed\n",
      "4000 processed\n",
      "4500 processed\n",
      "5000 processed\n",
      "5500 processed\n",
      "6000 processed\n",
      "6500 processed\n",
      "7000 processed\n",
      "7500 processed\n",
      "8000 processed\n",
      "8500 processed\n",
      "9000 processed\n",
      "1381\n"
     ]
    }
   ],
   "source": [
    "#Number of steps to cheat for\n",
    "cheat_steps = 2\n",
    "#Count how many solutions that save this many steps\n",
    "saving_threshold = 100\n",
    "\n",
    "#Get all deltas for this number of steps (fixed)\n",
    "deltas = get_deltas_for_n(cheat_steps)\n",
    "\n",
    "#Check all combination of savings by attempting to cheat from every space on the track to every reachable end point\n",
    "savings  = 0\n",
    "for idx, space in enumerate(cheat_lookup.keys()):\n",
    "    #Get cheat options for this space\n",
    "    cheat_options = spaces_for_cheat(space, deltas, cheat_lookup)\n",
    "\n",
    "    #Check how many steps are saved for each cheat option\n",
    "    for cheat in cheat_options:\n",
    "        cheat_saving = (cheat_lookup[space][1] - cheat_lookup[cheat[0]][1]) - cheat[1]\n",
    "\n",
    "        if cheat_saving >= saving_threshold:\n",
    "            savings += 1\n",
    "\n",
    "    if idx % 500 == 0:\n",
    "        print(idx, \"processed\")\n",
    "\n",
    "print(savings)"
   ]
  }
 ],
 "metadata": {
  "kernelspec": {
   "display_name": "base",
   "language": "python",
   "name": "python3"
  },
  "language_info": {
   "codemirror_mode": {
    "name": "ipython",
    "version": 3
   },
   "file_extension": ".py",
   "mimetype": "text/x-python",
   "name": "python",
   "nbconvert_exporter": "python",
   "pygments_lexer": "ipython3",
   "version": "3.12.7"
  }
 },
 "nbformat": 4,
 "nbformat_minor": 2
}
