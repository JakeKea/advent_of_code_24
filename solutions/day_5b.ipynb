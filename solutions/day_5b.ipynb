{
 "cells": [
  {
   "cell_type": "markdown",
   "metadata": {},
   "source": [
    "#### Day 5 - B\n",
    "Input is made of rules and updates. The rules dictates which updates are valid by imposing an order on which update items can precede another item.\n",
    "\n",
    "Fix the invalid updates and sum the middle entry of each invalid update."
   ]
  },
  {
   "cell_type": "code",
   "execution_count": 94,
   "metadata": {},
   "outputs": [],
   "source": [
    "#Import Libraries and settings\n",
    "\n",
    "settings = {\n",
    "    \"day\": 5,\n",
    "    \"test_data\": 0\n",
    "}"
   ]
  },
  {
   "cell_type": "code",
   "execution_count": 95,
   "metadata": {},
   "outputs": [],
   "source": [
    "#Load Input\n",
    "def load_input(settings):\n",
    "    #Derrive input file name\n",
    "    if settings[\"test_data\"]:\n",
    "        data_subdir = \"test\"\n",
    "    else:\n",
    "        data_subdir = \"actual\"\n",
    "\n",
    "    data_fp = f\"./../input/{data_subdir}/{settings[\"day\"]}.txt\"\n",
    "\n",
    "    #Open and read the file\n",
    "    with open(data_fp) as f:\n",
    "        lines = f.read().split('\\n')\n",
    "\n",
    "    #Split input between rules and updates\n",
    "    rules = []\n",
    "    updates = []\n",
    "    reading_rules = True\n",
    "    for line in lines:\n",
    "        if line == \"\":\n",
    "            reading_rules = False\n",
    "        elif reading_rules:\n",
    "            rules.append(line)\n",
    "        else:\n",
    "            line_arr = line.split(\",\")\n",
    "            line_num = [int(x) for x in line_arr]\n",
    "            updates.append(line_num)\n",
    "\n",
    "\n",
    "    return rules, updates\n",
    "\n",
    "rules_arr, updates = load_input(settings)"
   ]
  },
  {
   "cell_type": "code",
   "execution_count": 96,
   "metadata": {},
   "outputs": [
    {
     "data": {
      "text/plain": [
       "['91|88', '92|39', '92|57', '32|64', '32|59']"
      ]
     },
     "execution_count": 96,
     "metadata": {},
     "output_type": "execute_result"
    }
   ],
   "source": [
    "rules_arr[0:5]"
   ]
  },
  {
   "cell_type": "code",
   "execution_count": 97,
   "metadata": {},
   "outputs": [
    {
     "data": {
      "text/plain": [
       "[96, 43, 78, 17, 63, 81, 54, 64, 72, 53, 35]"
      ]
     },
     "execution_count": 97,
     "metadata": {},
     "output_type": "execute_result"
    }
   ],
   "source": [
    "updates[5]"
   ]
  },
  {
   "cell_type": "code",
   "execution_count": 98,
   "metadata": {},
   "outputs": [],
   "source": [
    "#Convert the array of rules into a dictionary\n",
    "def build_rules_dict(rules):\n",
    "    rules_dict = {}\n",
    "    \n",
    "    for rule in rules:\n",
    "        values = rule.split(\"|\")\n",
    "        key = int(values[0])\n",
    "        value = int(values[1])\n",
    "\n",
    "        if key not in rules_dict.keys():\n",
    "            rules_dict[key] = []\n",
    "        \n",
    "        rules_dict[key].append(value)\n",
    "\n",
    "    return rules_dict\n",
    "\n",
    "rules = build_rules_dict(rules_arr)"
   ]
  },
  {
   "cell_type": "code",
   "execution_count": 99,
   "metadata": {},
   "outputs": [],
   "source": [
    "#Function to process an update line\n",
    "def process_update(rules, update):\n",
    "    #Iterate through update\n",
    "    for idx, item in enumerate(update):\n",
    "        processed = update[:idx]\n",
    "\n",
    "        #Check if the current item has rules\n",
    "        if item in rules.keys():\n",
    "            rules_for_item = rules[item]\n",
    "\n",
    "            #Check if any previous items violate the rules for the current one\n",
    "            if any(e in rules_for_item for e in processed):\n",
    "                return False\n",
    "\n",
    "    return True\n",
    "\n",
    "#Determine if an item is safe to insert by considering the other items waiting to insert\n",
    "def safe_to_insert(rules, item, pending):\n",
    "    for future_item in pending:\n",
    "        if future_item in rules.keys():\n",
    "            if item in rules[future_item]:\n",
    "                return False\n",
    "\n",
    "    return True\n",
    "\n",
    "#Sort an invalid update into the correct order\n",
    "def fix_update(rules, update):\n",
    "\n",
    "    #Temp vairables to iterate over update values\n",
    "    to_insert = update\n",
    "    fixed_update = []\n",
    "    idx_arr = 0\n",
    "\n",
    "    #Loop until all items are inserted\n",
    "    while to_insert:\n",
    "        #Next item to consider inserting\n",
    "        next_item = to_insert[idx_arr]\n",
    "\n",
    "        #Check if the item is safe to insert\n",
    "        if safe_to_insert(rules, next_item, to_insert[:idx_arr] + to_insert[idx_arr+1:]):\n",
    "            #Insert the item and remove it from the to_insert list\n",
    "            fixed_update.append(next_item)\n",
    "            to_insert = to_insert[:idx_arr] + to_insert[idx_arr+1:]\n",
    "\n",
    "            #If the last item from the to_insert list was inserted, reset the array index\n",
    "            if idx_arr == len(to_insert):\n",
    "                idx_arr = 0\n",
    "\n",
    "        else:\n",
    "\n",
    "            #Update idx_arr for the next item\n",
    "            if idx_arr < len(to_insert) - 1:\n",
    "                idx_arr += 1\n",
    "            else:\n",
    "                idx_arr = 0\n",
    "\n",
    "    return fixed_update\n",
    "\n",
    "\n",
    "#Function to iterate over each update and maintain a running total\n",
    "def process_all_updates(rules, updates):\n",
    "    sum_valid = 0\n",
    "\n",
    "    for update in updates:\n",
    "        #If the update is not valid\n",
    "        if not process_update(rules, update):\n",
    "            fixed_update = fix_update(rules, update)\n",
    "            middle_item = fixed_update[int((len(fixed_update)-1)/2)]\n",
    "            sum_valid += middle_item\n",
    "            \n",
    "    return sum_valid"
   ]
  },
  {
   "cell_type": "code",
   "execution_count": 100,
   "metadata": {},
   "outputs": [
    {
     "data": {
      "text/plain": [
       "4828"
      ]
     },
     "execution_count": 100,
     "metadata": {},
     "output_type": "execute_result"
    }
   ],
   "source": [
    "process_all_updates(rules, updates)"
   ]
  }
 ],
 "metadata": {
  "kernelspec": {
   "display_name": "base",
   "language": "python",
   "name": "python3"
  },
  "language_info": {
   "codemirror_mode": {
    "name": "ipython",
    "version": 3
   },
   "file_extension": ".py",
   "mimetype": "text/x-python",
   "name": "python",
   "nbconvert_exporter": "python",
   "pygments_lexer": "ipython3",
   "version": "3.12.4"
  }
 },
 "nbformat": 4,
 "nbformat_minor": 2
}
