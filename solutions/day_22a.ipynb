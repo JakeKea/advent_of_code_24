{
 "cells": [
  {
   "cell_type": "markdown",
   "metadata": {},
   "source": [
    "#### Day 22 - A\n",
    "\n",
    "Evolve each number in the input 2000 times and sum the result"
   ]
  },
  {
   "cell_type": "code",
   "execution_count": 21,
   "metadata": {},
   "outputs": [],
   "source": [
    "#Import Libraries and settings\n",
    "\n",
    "settings = {\n",
    "    \"day\": 22,\n",
    "    \"test_data\": 0\n",
    "}"
   ]
  },
  {
   "cell_type": "code",
   "execution_count": 22,
   "metadata": {},
   "outputs": [],
   "source": [
    "#Load Input\n",
    "def load_input(settings):\n",
    "    #Derrive input file name\n",
    "    if settings[\"test_data\"]:\n",
    "        data_subdir = \"test\"\n",
    "    else:\n",
    "        data_subdir = \"actual\"\n",
    "\n",
    "    data_fp = f\"./../input/{data_subdir}/{settings[\"day\"]}.txt\"\n",
    "\n",
    "    #Open and read the file\n",
    "    with open(data_fp) as f:\n",
    "        lines = f.read().split('\\n')\n",
    "\n",
    "    nums = [int(x) for x in lines]\n",
    "\n",
    "    return nums\n",
    "\n",
    "data_in = load_input(settings)"
   ]
  },
  {
   "cell_type": "code",
   "execution_count": 23,
   "metadata": {},
   "outputs": [],
   "source": [
    "def evolve_m_rule(x, n):\n",
    "    return (x ^ (n*x)) % 16777216\n",
    "\n",
    "def evolve_d_rule(x, n):\n",
    "    return (x ^ int(x/n)) % 16777216\n",
    "\n",
    "def evolve_secret_num(x):\n",
    "    return evolve_m_rule(evolve_d_rule(evolve_m_rule(x, 64), 32), 2048)\n",
    "\n",
    "def evolve_n_stages(x, n, debug=False):\n",
    "    for i in range(n):\n",
    "        x = evolve_secret_num(x)\n",
    "\n",
    "        if debug:\n",
    "            print(x)\n",
    "    return x"
   ]
  },
  {
   "cell_type": "code",
   "execution_count": 24,
   "metadata": {},
   "outputs": [
    {
     "name": "stdout",
     "output_type": "stream",
     "text": [
      "14180628689\n"
     ]
    }
   ],
   "source": [
    "subtotal = 0\n",
    "for num in data_in:\n",
    "    res = evolve_n_stages(num, 2000, debug=False)\n",
    "    subtotal += res\n",
    "\n",
    "print(subtotal)"
   ]
  }
 ],
 "metadata": {
  "kernelspec": {
   "display_name": "base",
   "language": "python",
   "name": "python3"
  },
  "language_info": {
   "codemirror_mode": {
    "name": "ipython",
    "version": 3
   },
   "file_extension": ".py",
   "mimetype": "text/x-python",
   "name": "python",
   "nbconvert_exporter": "python",
   "pygments_lexer": "ipython3",
   "version": "3.12.7"
  }
 },
 "nbformat": 4,
 "nbformat_minor": 2
}
