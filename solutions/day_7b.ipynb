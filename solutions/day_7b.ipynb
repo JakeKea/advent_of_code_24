{
 "cells": [
  {
   "cell_type": "markdown",
   "metadata": {},
   "source": [
    "#### Day 7 - B\n",
    "Check which lines of calculations are possible with + and *\n",
    "Can now also use concatenation |"
   ]
  },
  {
   "cell_type": "code",
   "execution_count": 9,
   "metadata": {},
   "outputs": [],
   "source": [
    "#Import Libraries and settings\n",
    "import itertools\n",
    "\n",
    "settings = {\n",
    "    \"day\": 7,\n",
    "    \"test_data\": 0\n",
    "}"
   ]
  },
  {
   "cell_type": "code",
   "execution_count": 10,
   "metadata": {},
   "outputs": [],
   "source": [
    "#Load Input\n",
    "def load_input(settings):\n",
    "    #Derrive input file name\n",
    "    if settings[\"test_data\"]:\n",
    "        data_subdir = \"test\"\n",
    "    else:\n",
    "        data_subdir = \"actual\"\n",
    "\n",
    "    data_fp = f\"./../input/{data_subdir}/{settings[\"day\"]}.txt\"\n",
    "\n",
    "    #Open and read the file\n",
    "    with open(data_fp) as f:\n",
    "        lines = f.read().split('\\n')\n",
    "\n",
    "    #Split between lhs and rhs of the equation\n",
    "    eqs = []\n",
    "    for line in lines:\n",
    "        halves = line.split(\":\")\n",
    "        eqs.append((int(halves[0]), [int(x) for x in halves[1][1:].split(\" \")]))\n",
    "\n",
    "    return eqs\n",
    "\n",
    "eqs = load_input(settings)"
   ]
  },
  {
   "cell_type": "code",
   "execution_count": 11,
   "metadata": {},
   "outputs": [],
   "source": [
    "def brute_force(eq, ops=[\"+\", \"*\", \"|\"]):\n",
    "    target = eq[0]\n",
    "    nums = eq[1]\n",
    "    num_ops = len(nums) - 1\n",
    "\n",
    "    #Get combinations of operators\n",
    "    # Generate all combinations (with repetition) of length n\n",
    "    combinations = list(itertools.product(ops, repeat=num_ops))\n",
    "\n",
    "    #Check each combination\n",
    "    for c in combinations:\n",
    "        subtotal = nums[0]\n",
    "        #Iterate through operators in this combination\n",
    "        for idx, next_op in enumerate(c):\n",
    "            if next_op == \"+\":\n",
    "                subtotal += nums[idx+1]\n",
    "            elif next_op == \"*\":\n",
    "                subtotal *= nums[idx+1]\n",
    "            elif next_op == \"|\":\n",
    "                subtotal = int(str(subtotal) + str(nums[idx+1]))\n",
    "\n",
    "            #If the subtotal exceeds the target, can terminate early\n",
    "            if subtotal > target:\n",
    "                break\n",
    "\n",
    "        #If the subtotal matches the target then eq is valid\n",
    "        if subtotal == target:\n",
    "            return True\n",
    "\n",
    "    #No combination found\n",
    "    return False\n",
    "\n",
    "#Process all eqs and generate the output\n",
    "def process_eqs(eqs):\n",
    "    output = 0\n",
    "\n",
    "    for idx, eq in enumerate(eqs):\n",
    "\n",
    "        if idx % 100 == 0:\n",
    "            print(idx)\n",
    "\n",
    "        #Brute force to see if there is a solution\n",
    "        if brute_force(eq):\n",
    "            #print(eq)\n",
    "            #If it is a valid equation then add all numbers in the rhs of the equation\n",
    "            output += eq[0]\n",
    "\n",
    "    return output"
   ]
  },
  {
   "cell_type": "code",
   "execution_count": 12,
   "metadata": {},
   "outputs": [
    {
     "name": "stdout",
     "output_type": "stream",
     "text": [
      "0\n",
      "100\n",
      "200\n",
      "300\n",
      "400\n",
      "500\n",
      "600\n",
      "700\n",
      "800\n"
     ]
    },
    {
     "data": {
      "text/plain": [
       "20928985450275"
      ]
     },
     "execution_count": 12,
     "metadata": {},
     "output_type": "execute_result"
    }
   ],
   "source": [
    "process_eqs(eqs)"
   ]
  }
 ],
 "metadata": {
  "kernelspec": {
   "display_name": "base",
   "language": "python",
   "name": "python3"
  },
  "language_info": {
   "codemirror_mode": {
    "name": "ipython",
    "version": 3
   },
   "file_extension": ".py",
   "mimetype": "text/x-python",
   "name": "python",
   "nbconvert_exporter": "python",
   "pygments_lexer": "ipython3",
   "version": "3.12.4"
  }
 },
 "nbformat": 4,
 "nbformat_minor": 2
}
