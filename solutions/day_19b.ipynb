{
 "cells": [
  {
   "cell_type": "markdown",
   "metadata": {},
   "source": [
    "#### Day 19 - B\n",
    "Check which designs can be made using combinations of different towels.\n",
    "\n",
    "Count the unqiue combinations of making each design."
   ]
  },
  {
   "cell_type": "markdown",
   "metadata": {},
   "source": [
    "1) Build trimmed towel lookup (tl2) and create dictionary mapping towel pieces to larger towels"
   ]
  },
  {
   "cell_type": "code",
   "execution_count": 326,
   "metadata": {},
   "outputs": [],
   "source": [
    "#Import Libraries and settings\n",
    "from copy import deepcopy\n",
    "from itertools import combinations as c\n",
    "\n",
    "settings = {\n",
    "    \"day\": 19,\n",
    "    \"test_data\": 0\n",
    "}"
   ]
  },
  {
   "cell_type": "code",
   "execution_count": 327,
   "metadata": {},
   "outputs": [],
   "source": [
    "#Load Input\n",
    "def load_input(settings):\n",
    "    #Derrive input file name\n",
    "    if settings[\"test_data\"]:\n",
    "        data_subdir = \"test\"\n",
    "    else:\n",
    "        data_subdir = \"actual\"\n",
    "\n",
    "    data_fp = f\"./../input/{data_subdir}/{settings[\"day\"]}.txt\"\n",
    "\n",
    "    #Open and read the file\n",
    "    with open(data_fp) as f:\n",
    "        lines = f.read().split('\\n')\n",
    "\n",
    "    towels = lines[0].split(\", \")\n",
    "\n",
    "    #Convert towels into dictionary grouped by the first character\n",
    "    tlu = {}\n",
    "    for towel in towels:\n",
    "        start = towel[0]\n",
    "        if start not in tlu.keys():\n",
    "            tlu[start] = [towel]\n",
    "        else:\n",
    "            tlu[start].append(towel)\n",
    "\n",
    "    designs = lines[2:]\n",
    "\n",
    "    return towels, tlu, designs\n",
    "\n",
    "towels, tlu, designs = load_input(settings)"
   ]
  },
  {
   "cell_type": "code",
   "execution_count": 328,
   "metadata": {},
   "outputs": [],
   "source": [
    "#Attempt to recursively make the design from towels\n",
    "def match_design(tlu, design):\n",
    "\n",
    "    #Get the next character in the design\n",
    "    next_char = design[0]\n",
    "    remaining_design = len(design)\n",
    "\n",
    "    #Check there are towels starting with this pattern\n",
    "    if next_char not in tlu.keys():\n",
    "        return False\n",
    "\n",
    "    #Try all possible options\n",
    "    for towel in tlu[next_char]:\n",
    "        #If this towel matches the next few characters of the design\n",
    "        if len(towel) < remaining_design:\n",
    "            if towel == design[0:len(towel)]:\n",
    "                res = match_design(tlu, design[len(towel):])\n",
    "                if res:\n",
    "                    return towel + res\n",
    "\n",
    "\n",
    "        #If this towel matches the rest of the design    \n",
    "        elif len(towel) == remaining_design:\n",
    "            if towel == design:\n",
    "                return towel\n",
    "            \n",
    "    return False"
   ]
  },
  {
   "cell_type": "code",
   "execution_count": 329,
   "metadata": {},
   "outputs": [],
   "source": [
    "#Attempt to recursively make the design from towels\n",
    "def match_design_all(tlu, design):\n",
    "\n",
    "    #Get the next character in the design\n",
    "    next_char = design[0]\n",
    "    remaining_design = len(design)\n",
    "\n",
    "    #Check there are towels starting with this pattern\n",
    "    if next_char not in tlu.keys():\n",
    "        return False\n",
    "\n",
    "    #Try all possible options\n",
    "    matches = []\n",
    "    for towel in tlu[next_char]:\n",
    "        #If this towel matches the next few characters of the design\n",
    "        if len(towel) < remaining_design:\n",
    "            if towel == design[0:len(towel)]:\n",
    "                res = match_design_all(tlu, design[len(towel):])\n",
    "                if res:\n",
    "                    for option in res:\n",
    "                        matches.append([towel] + option)\n",
    "\n",
    "\n",
    "        #If this towel matches the rest of the design    \n",
    "        elif len(towel) == remaining_design:\n",
    "            if towel == design:\n",
    "                return [[towel]]\n",
    "            \n",
    "    return matches"
   ]
  },
  {
   "cell_type": "code",
   "execution_count": 330,
   "metadata": {},
   "outputs": [],
   "source": [
    "#Get all towels of a given length\n",
    "#When exact is false it also returns towels shorter than the specified length\n",
    "def all_towels_of_len_n(tlu, length, exact=True):\n",
    "    matches = []\n",
    "\n",
    "    #Get all towels of the required length\n",
    "    for key in tlu.keys():\n",
    "        for towel in tlu[key]:\n",
    "            if exact:\n",
    "                if len(towel) == length:\n",
    "                    matches.append(towel)\n",
    "            else:\n",
    "                if len(towel) <= length:\n",
    "                    matches.append(towel)\n",
    "\n",
    "    #If exact is False, return towels as a dictionary grouped by length\n",
    "    if exact == False:\n",
    "        tlu_p = {}\n",
    "        for piece in matches:\n",
    "            start = piece[0]\n",
    "            if start not in tlu_p.keys():\n",
    "                tlu_p[start] = [piece]\n",
    "            else:\n",
    "                tlu_p[start].append(piece)\n",
    "        return tlu_p\n",
    "    else:\n",
    "        return matches\n",
    "\n",
    "#Convert a full towel lookup\n",
    "def rebuild(tlu, max=8, status=True):\n",
    "\n",
    "    if status:\n",
    "        print(\"Rebuilding towel lookup dictionary...\")\n",
    "\n",
    "    #Create a copy to avoid overwriting the original\n",
    "    tl2 = deepcopy(tlu)\n",
    "    breakdown = {}\n",
    "    #Track which non_minimum towels have already been made to prevent duplication\n",
    "    breakdowns_made = set()\n",
    "\n",
    "    #For each possible towel length (in ascending order)\n",
    "    for length in range(2, max+1):\n",
    "        redundant_towels = []\n",
    "        #Get all towels of current length\n",
    "        towel_targets = all_towels_of_len_n(tl2, length, exact=True)\n",
    "        #Get all towels of a shorter length\n",
    "        towel_pieces = all_towels_of_len_n(tl2, length-1, exact=False)\n",
    "\n",
    "        #For each towel or the specified length\n",
    "        for target in towel_targets:\n",
    "            #Attempt to make the towel using smaller ones\n",
    "            combinations = match_design_all(towel_pieces, target)\n",
    "\n",
    "            if combinations:\n",
    "                #If the towel can be made from smaller towels, it is redundant\n",
    "                redundant_towels.append(target)\n",
    "                #Record ways to make this towel in the breakdown dictionary\n",
    "                for combo in combinations:\n",
    "                    #If this combo has not already been made\n",
    "                    if \"\".join(combo) not in breakdowns_made:\n",
    "                        #Add it to both the breakdown dictionary and the set of made breakdowns\n",
    "                        breakdown[tuple(combo)] = \"\".join(combo)\n",
    "                        breakdowns_made.add(\"\".join(combo))\n",
    "\n",
    "        #Remove redundant towels from tlu\n",
    "        for key in tl2.keys():\n",
    "            tl2[key] = list(filter(lambda x: x not in redundant_towels, tl2[key]))\n",
    "        \n",
    "        #Print processing status\n",
    "        if status:\n",
    "            print(\"Towels of length\", length, \"processed.\")\n",
    "\n",
    "    if status:\n",
    "        print()\n",
    "    return tl2, breakdown"
   ]
  },
  {
   "cell_type": "code",
   "execution_count": 331,
   "metadata": {},
   "outputs": [],
   "source": [
    "def get_possible_designs(towel_lookup, designs, status=True):\n",
    "    solutions = []\n",
    "\n",
    "    if status:\n",
    "        print(\"Processing\", len(designs), \"designs:\")\n",
    "\n",
    "    #For each design, check if it can be made using the towel lookup dict\n",
    "    for idx, design in enumerate(designs):\n",
    "\n",
    "        if status and idx%100 == 0:\n",
    "            print(\"Processing design\", str(idx)+\"...\")\n",
    "\n",
    "        res = match_design_all(towel_lookup, design)\n",
    "        solutions.append(res)\n",
    "\n",
    "    return solutions\n",
    "\n",
    "def trim_impossible_designs(towel_lookup, designs, status=True):\n",
    "    possible_designs = []\n",
    "\n",
    "    if status:\n",
    "        print(\"Processing\", len(designs), \"designs:\")\n",
    "\n",
    "    #For each design, check if it can be made using the towel lookup dict\n",
    "    for idx, design in enumerate(designs):\n",
    "        if status and idx%100 == 0:\n",
    "            print(\"Processing design\", str(idx)+\"...\")\n",
    "\n",
    "        res = match_design(towel_lookup, design)\n",
    "        if res:\n",
    "            possible_designs.append(design)\n",
    "\n",
    "    return possible_designs"
   ]
  },
  {
   "cell_type": "code",
   "execution_count": 332,
   "metadata": {},
   "outputs": [
    {
     "name": "stdout",
     "output_type": "stream",
     "text": [
      "Rebuilding towel lookup dictionary...\n",
      "Towels of length 2 processed.\n",
      "Towels of length 3 processed.\n",
      "Towels of length 4 processed.\n",
      "Towels of length 5 processed.\n",
      "Towels of length 6 processed.\n",
      "Towels of length 7 processed.\n",
      "Towels of length 8 processed.\n",
      "\n"
     ]
    }
   ],
   "source": [
    "tl2 = deepcopy(tlu)\n",
    "tl2, breakdown = rebuild(tl2)"
   ]
  },
  {
   "cell_type": "markdown",
   "metadata": {},
   "source": [
    "2) Remove all impossible designs from the list of designs"
   ]
  },
  {
   "cell_type": "code",
   "execution_count": 333,
   "metadata": {},
   "outputs": [
    {
     "name": "stdout",
     "output_type": "stream",
     "text": [
      "Processing 400 designs:\n",
      "Processing design 0...\n",
      "Processing design 100...\n",
      "Processing design 200...\n",
      "Processing design 300...\n",
      "311\n"
     ]
    }
   ],
   "source": [
    "designs_checked = trim_impossible_designs(tl2, designs)\n",
    "print(len(designs_checked))"
   ]
  },
  {
   "cell_type": "markdown",
   "metadata": {},
   "source": [
    "3. Get all solutions using the minimum pieces"
   ]
  },
  {
   "cell_type": "code",
   "execution_count": 334,
   "metadata": {},
   "outputs": [
    {
     "name": "stdout",
     "output_type": "stream",
     "text": [
      "Processing 311 designs:\n",
      "Processing design 0...\n",
      "Processing design 100...\n",
      "Processing design 200...\n",
      "Processing design 300...\n"
     ]
    }
   ],
   "source": [
    "min_solutions = get_possible_designs(tl2, designs_checked)"
   ]
  },
  {
   "cell_type": "markdown",
   "metadata": {},
   "source": [
    "4. Get all solutions from the minimum piece solutions"
   ]
  },
  {
   "cell_type": "code",
   "execution_count": 335,
   "metadata": {},
   "outputs": [],
   "source": [
    "#Get all valid combinations by taking the minimal solutions and finding all solutions where pieces can be combined\n",
    "def get_valid_combos(pieces, cur_idx=0):\n",
    "    global valid_histroy\n",
    "\n",
    "    #Reset the history variable on first call\n",
    "    if cur_idx == 0:\n",
    "        valid_histroy = {}\n",
    "\n",
    "    #If the remaining list combinations has already been calculated then simply return it\n",
    "    if cur_idx in valid_histroy.keys():\n",
    "        return valid_histroy[cur_idx]\n",
    "    \n",
    "    #If there are no more pieces to process then there are no more decisions to make\n",
    "    if not pieces:\n",
    "        valid_histroy[cur_idx] = 1 \n",
    "        return 1\n",
    "    \n",
    "    #Count the number of combinations for each piece option at this index\n",
    "    combinations = 0\n",
    "    \n",
    "    #Every option for the next character\n",
    "    #Include picking no option and leaving the first piece as is\n",
    "    cur_considerations = [(cur_idx, cur_idx)] + [x for x in pieces if x[0] == cur_idx]\n",
    "    num_at_cur_idx = len(cur_considerations) - 1\n",
    "\n",
    "    for piece in cur_considerations:\n",
    "        #Get the length of the piece to set the next index\n",
    "        piece_len = piece[1] - piece[0]\n",
    "        #Get the number of combinations for the remainder of the pieces input at the next index\n",
    "        combinations += get_valid_combos(pieces[num_at_cur_idx + piece_len:], cur_idx=cur_idx+piece_len+1)\n",
    "\n",
    "    #After iterating all possibilities for this index, record the combinations in the history dict\n",
    "    valid_histroy[cur_idx] = combinations\n",
    "    return combinations"
   ]
  },
  {
   "cell_type": "code",
   "execution_count": 336,
   "metadata": {},
   "outputs": [],
   "source": [
    "#Derrive combinations of solutions using the minimum solution as a basis\n",
    "def derrive_combinations(min_solution, breakdown):\n",
    "    combo_pieces = []\n",
    "\n",
    "    #Get all combo pieces that can be inserted in the minimum solution\n",
    "    for piece_idx in range(len(min_solution)-1):\n",
    "        for length in range(piece_idx+2, len(min_solution)+1):\n",
    "            combo = min_solution[piece_idx:length]\n",
    "            if tuple(combo) in breakdown.keys():\n",
    "                combo_pieces.append((piece_idx, piece_idx+len(combo)-1))\n",
    "\n",
    "    #Determine valid combinations using the combo pieces\n",
    "    return get_valid_combos(combo_pieces)"
   ]
  },
  {
   "cell_type": "code",
   "execution_count": 337,
   "metadata": {},
   "outputs": [
    {
     "name": "stdout",
     "output_type": "stream",
     "text": [
      "Processing 311 designs:\n",
      "0 Designs solved\n",
      "30 Designs solved\n",
      "60 Designs solved\n",
      "90 Designs solved\n",
      "120 Designs solved\n",
      "150 Designs solved\n",
      "180 Designs solved\n",
      "210 Designs solved\n",
      "240 Designs solved\n",
      "270 Designs solved\n",
      "300 Designs solved\n",
      "616234236468263\n"
     ]
    }
   ],
   "source": [
    "#Code to get output\n",
    "combinations = 0\n",
    "print(\"Processing\", len(min_solutions), \"designs:\")\n",
    "\n",
    "#Iterate for each design\n",
    "for idx, design in enumerate(min_solutions):\n",
    "    #Iterate again as a design might have multiple solutions using the minimum pieces\n",
    "    for design_solution in design:\n",
    "        #Get the number of solutions for this design\n",
    "        res = derrive_combinations(design_solution, breakdown)\n",
    "        combinations += res\n",
    "\n",
    "    if idx % 30 == 0:\n",
    "        print(idx, \"Designs solved\")\n",
    "\n",
    "print(combinations)"
   ]
  }
 ],
 "metadata": {
  "kernelspec": {
   "display_name": "base",
   "language": "python",
   "name": "python3"
  },
  "language_info": {
   "codemirror_mode": {
    "name": "ipython",
    "version": 3
   },
   "file_extension": ".py",
   "mimetype": "text/x-python",
   "name": "python",
   "nbconvert_exporter": "python",
   "pygments_lexer": "ipython3",
   "version": "3.12.7"
  }
 },
 "nbformat": 4,
 "nbformat_minor": 2
}
