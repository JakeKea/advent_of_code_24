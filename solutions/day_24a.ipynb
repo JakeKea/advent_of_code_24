{
 "cells": [
  {
   "cell_type": "markdown",
   "metadata": {},
   "source": [
    "#### Day 24 - A\n",
    "Get the logic gate output and combine all z values into a decimal number."
   ]
  },
  {
   "cell_type": "code",
   "execution_count": 1,
   "metadata": {},
   "outputs": [],
   "source": [
    "#Import Libraries and settings\n",
    "\n",
    "settings = {\n",
    "    \"day\": 24,\n",
    "    \"test_data\": 0\n",
    "}"
   ]
  },
  {
   "cell_type": "code",
   "execution_count": 2,
   "metadata": {},
   "outputs": [],
   "source": [
    "def f_and(x, y):\n",
    "    return x and y\n",
    "\n",
    "def f_or(x, y):\n",
    "    return x or y\n",
    "\n",
    "def f_xor(x, y):\n",
    "    return x ^ y"
   ]
  },
  {
   "cell_type": "code",
   "execution_count": 3,
   "metadata": {},
   "outputs": [],
   "source": [
    "#Load Input\n",
    "def load_input(settings):\n",
    "    #Derrive input file name\n",
    "    if settings[\"test_data\"]:\n",
    "        data_subdir = \"test\"\n",
    "    else:\n",
    "        data_subdir = \"actual\"\n",
    "\n",
    "    data_fp = f\"./../input/{data_subdir}/{settings[\"day\"]}.txt\"\n",
    "\n",
    "    #Open and read the file\n",
    "    with open(data_fp) as f:\n",
    "        lines = f.read().split('\\n')\n",
    "\n",
    "    #Process inputs into dictionary\n",
    "    circuit = {\n",
    "        \"in\":{},\n",
    "        \"gate\":{},\n",
    "        \"ready\":[],\n",
    "        \"inactive\":{\"in\":{}, \"out\":{}}\n",
    "    }\n",
    "\n",
    "    #Boolean to seperate the first half of the input from the second.\n",
    "    initial  = True\n",
    "\n",
    "    for line in lines:\n",
    "        #If the break between the first and second second is found\n",
    "        if line == \"\":\n",
    "            initial = False\n",
    "        #Process initial value for x \n",
    "        elif initial:\n",
    "            wire = line.split(\": \")\n",
    "            wid = wire[0]\n",
    "            \n",
    "            wvalue = bool(int(wire[1]))\n",
    "            circuit[\"in\"][wid] = wvalue\n",
    "        else:\n",
    "            #Parse line\n",
    "            gate_eq = line.split(\" -> \")\n",
    "            gate_in = gate_eq[0].split(\" \")\n",
    "            wires_in = [gate_in[0], gate_in[2]]\n",
    "            gate_op = gate_in[1]\n",
    "            gate_out = gate_eq[1]\n",
    "\n",
    "            #Get operator function\n",
    "            if gate_op == \"AND\":\n",
    "                func = f_and\n",
    "            elif gate_op == \"OR\":\n",
    "                func = f_or\n",
    "            elif gate_op == \"XOR\":\n",
    "                func = f_xor\n",
    "\n",
    "            #Record gate data\n",
    "            circuit[\"gate\"][gate_out] = {\n",
    "                \"in\": wires_in[:],\n",
    "                \"op\": func\n",
    "                }\n",
    "            \n",
    "            #Record gate dependencies\n",
    "            for wire in wires_in:\n",
    "                if wire in circuit[\"inactive\"][\"in\"].keys():\n",
    "                    circuit[\"inactive\"][\"in\"][wire].append(gate_out)\n",
    "                else:\n",
    "                    circuit[\"inactive\"][\"in\"][wire] = [gate_out]\n",
    "\n",
    "            circuit[\"inactive\"][\"out\"][gate_out] = wires_in\n",
    "\n",
    "    #Process the existing state to determine inactive and ready gates\n",
    "    for wire in circuit[\"in\"].keys():\n",
    "        for connection in circuit[\"inactive\"][\"in\"][wire]:\n",
    "            circuit[\"inactive\"][\"out\"][connection].remove(wire)\n",
    "\n",
    "            if circuit[\"inactive\"][\"out\"][connection] == []:\n",
    "                del circuit[\"inactive\"][\"out\"][connection]\n",
    "                circuit[\"ready\"].append(connection)\n",
    "\n",
    "        del circuit[\"inactive\"][\"in\"][wire]\n",
    "\n",
    "\n",
    "    return circuit\n",
    "\n",
    "circuit = load_input(settings)"
   ]
  },
  {
   "cell_type": "code",
   "execution_count": 4,
   "metadata": {},
   "outputs": [],
   "source": [
    "def apply_gate_result(gate_id, val):\n",
    "    global circuit\n",
    "\n",
    "    #Add gate to inputs\n",
    "    circuit[\"in\"][gate_id] = val\n",
    "\n",
    "    #Update inactive tracker\n",
    "    if gate_id in circuit[\"inactive\"][\"in\"].keys():\n",
    "        for connection in circuit[\"inactive\"][\"in\"][gate_id]:\n",
    "                circuit[\"inactive\"][\"out\"][connection].remove(gate_id)\n",
    "\n",
    "                #Check if the output is expecting any more inputs\n",
    "                if circuit[\"inactive\"][\"out\"][connection] == []:\n",
    "                    #Mark the output as ready to process\n",
    "                    del circuit[\"inactive\"][\"out\"][connection]\n",
    "                    circuit[\"ready\"].append(connection)\n",
    "\n",
    "        #Remove processed gate from the inactive input list\n",
    "        del circuit[\"inactive\"][\"in\"][gate_id]\n",
    "\n",
    "#Process a given gate id\n",
    "def process_gate(gate_id):\n",
    "    global circuit\n",
    "\n",
    "    #Load gate details\n",
    "    gate = circuit[\"gate\"][gate_id]\n",
    "    #Calculate result\n",
    "    res = gate[\"op\"](circuit[\"in\"][gate[\"in\"][0]], circuit[\"in\"][gate[\"in\"][1]])\n",
    "\n",
    "    #Update circuit with the result\n",
    "    apply_gate_result(gate_id, res)\n",
    "\n",
    "    #Debug Line\n",
    "    #print(gate_id, \"=>\", circuit[\"in\"][gate[\"in\"][0]], str(gate[\"op\"]).split(\" \")[1].split(\"_\")[1].upper(), circuit[\"in\"][gate[\"in\"][1]], \"=\", circuit[\"in\"][gate_id])"
   ]
  },
  {
   "cell_type": "code",
   "execution_count": 5,
   "metadata": {},
   "outputs": [],
   "source": [
    "#Process ready circuits\n",
    "while circuit[\"ready\"]:\n",
    "    next_gate = circuit[\"ready\"].pop(0)\n",
    "    process_gate(next_gate)\n",
    "    "
   ]
  },
  {
   "cell_type": "code",
   "execution_count": 6,
   "metadata": {},
   "outputs": [
    {
     "name": "stdout",
     "output_type": "stream",
     "text": [
      "36902370467952\n"
     ]
    }
   ],
   "source": [
    "#Calculate the output\n",
    "z_ids = [z for z in circuit[\"in\"].keys() if z[0] == \"z\"]\n",
    "z_ids.sort(reverse=True)\n",
    "val = 0\n",
    "for z in z_ids:\n",
    "    #print(z, int(circuit[\"in\"][z]))\n",
    "    val = (val << 1) | int(circuit[\"in\"][z])\n",
    "\n",
    "print(val)"
   ]
  }
 ],
 "metadata": {
  "kernelspec": {
   "display_name": "base",
   "language": "python",
   "name": "python3"
  },
  "language_info": {
   "codemirror_mode": {
    "name": "ipython",
    "version": 3
   },
   "file_extension": ".py",
   "mimetype": "text/x-python",
   "name": "python",
   "nbconvert_exporter": "python",
   "pygments_lexer": "ipython3",
   "version": "3.12.7"
  }
 },
 "nbformat": 4,
 "nbformat_minor": 2
}
