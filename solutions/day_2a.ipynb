{
 "cells": [
  {
   "cell_type": "markdown",
   "metadata": {},
   "source": [
    "#### Day 2 - A\n",
    "Determine how many rows are \"safe\" using the following criteria:\n",
    "* All numbers in the row are either all ascending or descending\n",
    "* Each number is between 1-3 higher/lower than the previous"
   ]
  },
  {
   "cell_type": "code",
   "execution_count": 28,
   "metadata": {},
   "outputs": [],
   "source": [
    "#Import Libraries and settings\n",
    "\n",
    "settings = {\n",
    "    \"day\": 2,\n",
    "    \"test_data\": 0\n",
    "}"
   ]
  },
  {
   "cell_type": "code",
   "execution_count": 29,
   "metadata": {},
   "outputs": [],
   "source": [
    "#Load Input\n",
    "def load_input(settings):\n",
    "    #Derrive input file name\n",
    "    if settings[\"test_data\"]:\n",
    "        data_subdir = \"test\"\n",
    "    else:\n",
    "        data_subdir = \"actual\"\n",
    "\n",
    "    data_fp = f\"./../input/{data_subdir}/{settings[\"day\"]}.txt\"\n",
    "\n",
    "    #Open and read the file\n",
    "    with open(data_fp) as f:\n",
    "        lines = f.read().split('\\n')\n",
    "\n",
    "    #Split each line by numbers and convert to numeric values\n",
    "    lines = [x.split(\" \") for x in lines]\n",
    "    lines = [[int(y) for y in line] for line in lines]\n",
    "\n",
    "    return lines\n",
    "\n",
    "data_in = load_input(settings)"
   ]
  },
  {
   "cell_type": "code",
   "execution_count": null,
   "metadata": {},
   "outputs": [
    {
     "name": "stdout",
     "output_type": "stream",
     "text": [
      "[[44, 47, 50, 51, 53, 54, 53], [70, 73, 75, 77, 80, 81, 84, 84], [1, 3, 4, 7, 10, 13, 16, 20], [47, 49, 52, 53, 55, 57, 60, 65], [69, 70, 71, 70, 71]]\n"
     ]
    }
   ],
   "source": [
    "print(data_in[0:5])"
   ]
  },
  {
   "cell_type": "code",
   "execution_count": 31,
   "metadata": {},
   "outputs": [],
   "source": [
    "#Process a line to determine if a line is safe\n",
    "def process_line(line):\n",
    "    #Iterate through nums\n",
    "    for idx, num in enumerate(line):\n",
    "        #First number can't fail\n",
    "        if idx == 0:\n",
    "            prev = num\n",
    "        else:\n",
    "            #For the second number set the direction\n",
    "            if idx == 1:\n",
    "                if num > prev:\n",
    "                    dir = 1\n",
    "                else:\n",
    "                    dir = -1\n",
    "\n",
    "            #Check the current number is between 1 and 3 higher/lower than the previous\n",
    "            diff = (num - prev)*dir\n",
    "            if diff < 1 or diff > 3:\n",
    "                return False\n",
    "\n",
    "            #Set prev for the next loop iteration\n",
    "            prev = num\n",
    "\n",
    "    #If the code processes the entire loop, the line is \"safe\"\n",
    "    return True\n",
    "\n",
    "def process_input(lines):\n",
    "    #Process each line and count the safe rows\n",
    "    count = 0\n",
    "\n",
    "    for line in lines:\n",
    "        count += int(process_line(line))\n",
    "\n",
    "    return count"
   ]
  },
  {
   "cell_type": "code",
   "execution_count": 32,
   "metadata": {},
   "outputs": [
    {
     "name": "stdout",
     "output_type": "stream",
     "text": [
      "591\n"
     ]
    }
   ],
   "source": [
    "print(process_input(data_in))"
   ]
  }
 ],
 "metadata": {
  "kernelspec": {
   "display_name": "base",
   "language": "python",
   "name": "python3"
  },
  "language_info": {
   "codemirror_mode": {
    "name": "ipython",
    "version": 3
   },
   "file_extension": ".py",
   "mimetype": "text/x-python",
   "name": "python",
   "nbconvert_exporter": "python",
   "pygments_lexer": "ipython3",
   "version": "3.12.4"
  }
 },
 "nbformat": 4,
 "nbformat_minor": 2
}
