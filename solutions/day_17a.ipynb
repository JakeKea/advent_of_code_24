{
 "cells": [
  {
   "cell_type": "markdown",
   "metadata": {},
   "source": [
    "#### Day 17 - A\n",
    "Perform different instructions based on the opcodes and input"
   ]
  },
  {
   "cell_type": "code",
   "execution_count": 235,
   "metadata": {},
   "outputs": [],
   "source": [
    "#Import Libraries and settings\n",
    "\n",
    "settings = {\n",
    "    \"day\": 17,\n",
    "    \"test_data\": 0\n",
    "}"
   ]
  },
  {
   "cell_type": "code",
   "execution_count": 236,
   "metadata": {},
   "outputs": [],
   "source": [
    "#Load Input\n",
    "def load_input(settings):\n",
    "    #Derrive input file name\n",
    "    if settings[\"test_data\"]:\n",
    "        data_subdir = \"test\"\n",
    "    else:\n",
    "        data_subdir = \"actual\"\n",
    "\n",
    "    data_fp = f\"./../input/{data_subdir}/{settings[\"day\"]}.txt\"\n",
    "\n",
    "    #Open and read the file\n",
    "    with open(data_fp) as f:\n",
    "        lines = f.read().split('\\n')\n",
    "\n",
    "    registers = {\n",
    "        \"A\": int(lines[0].split(\" \")[2]),\n",
    "        \"B\": int(lines[1].split(\" \")[2]),\n",
    "        \"C\": int(lines[2].split(\" \")[2]),\n",
    "        \"p\": 0,\n",
    "        \"outputs\": []\n",
    "    }\n",
    "\n",
    "    program_line = lines[4].split(\" \")[1].split(\",\")\n",
    "    program_line = [int(x) for x in program_line]\n",
    "\n",
    "    return registers, program_line\n",
    "\n",
    "registers, program_line = load_input(settings)"
   ]
  },
  {
   "cell_type": "code",
   "execution_count": 237,
   "metadata": {},
   "outputs": [
    {
     "name": "stdout",
     "output_type": "stream",
     "text": [
      "{'A': 108107566389757, 'B': 0, 'C': 0, 'p': 0, 'outputs': []}\n"
     ]
    }
   ],
   "source": [
    "registers[\"A\"] = 108107566389757\n",
    "print(registers)"
   ]
  },
  {
   "cell_type": "code",
   "execution_count": 238,
   "metadata": {},
   "outputs": [],
   "source": [
    "def combo(operand):\n",
    "    global registers\n",
    "\n",
    "    if operand <= 3:\n",
    "        return operand\n",
    "    elif operand == 4:\n",
    "        return registers[\"A\"]\n",
    "    elif operand == 5:\n",
    "        return registers[\"B\"]\n",
    "    elif operand == 6:\n",
    "        return registers[\"C\"]"
   ]
  },
  {
   "cell_type": "code",
   "execution_count": 239,
   "metadata": {},
   "outputs": [],
   "source": [
    "#Opcode 0\n",
    "def adv(operand):\n",
    "    global registers\n",
    "    registers[\"A\"] = int(registers[\"A\"] / (2**combo(operand)))\n",
    "\n",
    "#Opcode 1\n",
    "def bxl(operand):\n",
    "    global registers\n",
    "    registers[\"B\"] = registers[\"B\"] ^ operand\n",
    "\n",
    "#Opcode 2\n",
    "def bst(operand):\n",
    "    global registers\n",
    "    registers[\"B\"] = combo(operand) % 8\n",
    "\n",
    "#Opcode 3\n",
    "def juz(operand):\n",
    "    global registers\n",
    "    if registers[\"A\"] != 0:\n",
    "        registers[\"p\"] = operand - 2\n",
    "\n",
    "#Opcode 4\n",
    "def bxc(operand):\n",
    "    global registers\n",
    "    registers[\"B\"] = registers[\"B\"] ^ registers[\"C\"]\n",
    "\n",
    "#Opcode 5\n",
    "def out(operand):\n",
    "    global registers\n",
    "    registers[\"outputs\"].append(combo(operand) % 8)\n",
    "\n",
    "#Opcode 6\n",
    "def bdv(operand):\n",
    "    global registers\n",
    "    registers[\"B\"] = int(registers[\"A\"] / (2**combo(operand)))\n",
    "\n",
    "#Opcode 7\n",
    "def cdv(operand):\n",
    "    global registers\n",
    "    registers[\"C\"] = int(registers[\"A\"] / (2**combo(operand)))"
   ]
  },
  {
   "cell_type": "code",
   "execution_count": 240,
   "metadata": {},
   "outputs": [],
   "source": [
    "def process_opcode(opcode):\n",
    "    opcode_functions = [\n",
    "        adv, bxl, bst, juz, bxc, out, bdv, cdv\n",
    "    ]\n",
    "    return opcode_functions[opcode]\n",
    "\n",
    "def process_input(program_line):\n",
    "\n",
    "    registers[\"outputs\"] = []\n",
    "    registers[\"p\"] = 0\n",
    "\n",
    "    while registers[\"p\"] < len(program_line) - 1:\n",
    "        opcode = program_line[registers[\"p\"]]\n",
    "        operand = program_line[registers[\"p\"] + 1]\n",
    "        \n",
    "        func = process_opcode(opcode)\n",
    "        func(operand)\n",
    "\n",
    "        registers[\"p\"] += 2"
   ]
  },
  {
   "cell_type": "code",
   "execution_count": 241,
   "metadata": {},
   "outputs": [],
   "source": [
    "process_input(program_line)"
   ]
  },
  {
   "cell_type": "code",
   "execution_count": 242,
   "metadata": {},
   "outputs": [
    {
     "name": "stdout",
     "output_type": "stream",
     "text": [
      "{'A': 0, 'B': 0, 'C': 3, 'p': 16, 'outputs': [2, 4, 1, 3, 7, 5, 4, 1, 1, 3, 0, 3, 5, 5, 3, 0]}\n"
     ]
    }
   ],
   "source": [
    "print(registers)"
   ]
  },
  {
   "cell_type": "code",
   "execution_count": 243,
   "metadata": {},
   "outputs": [
    {
     "name": "stdout",
     "output_type": "stream",
     "text": [
      "2,4,1,3,7,5,4,1,1,3,0,3,5,5,3,0\n"
     ]
    }
   ],
   "source": [
    "print(\",\".join([str(x) for x in registers[\"outputs\"]]))"
   ]
  }
 ],
 "metadata": {
  "kernelspec": {
   "display_name": "base",
   "language": "python",
   "name": "python3"
  },
  "language_info": {
   "codemirror_mode": {
    "name": "ipython",
    "version": 3
   },
   "file_extension": ".py",
   "mimetype": "text/x-python",
   "name": "python",
   "nbconvert_exporter": "python",
   "pygments_lexer": "ipython3",
   "version": "3.12.7"
  }
 },
 "nbformat": 4,
 "nbformat_minor": 2
}
