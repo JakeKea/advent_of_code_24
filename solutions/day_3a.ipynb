{
 "cells": [
  {
   "cell_type": "markdown",
   "metadata": {},
   "source": [
    "#### Day X - A\n",
    "Info on task"
   ]
  },
  {
   "cell_type": "code",
   "execution_count": 1,
   "metadata": {},
   "outputs": [],
   "source": [
    "#Import Libraries and settings\n",
    "import re\n",
    "\n",
    "settings = {\n",
    "    \"day\": 3,\n",
    "    \"test_data\": 0\n",
    "}"
   ]
  },
  {
   "cell_type": "code",
   "execution_count": 2,
   "metadata": {},
   "outputs": [],
   "source": [
    "#Load Input\n",
    "def load_input(settings):\n",
    "    #Derrive input file name\n",
    "    if settings[\"test_data\"]:\n",
    "        data_subdir = \"test\"\n",
    "    else:\n",
    "        data_subdir = \"actual\"\n",
    "\n",
    "    data_fp = f\"./../input/{data_subdir}/{settings[\"day\"]}.txt\"\n",
    "\n",
    "    #Open and read the file\n",
    "    with open(data_fp) as f:\n",
    "        lines = f.read().split('\\n')\n",
    "\n",
    "    return lines\n",
    "\n",
    "data_in = load_input(settings)"
   ]
  },
  {
   "cell_type": "code",
   "execution_count": null,
   "metadata": {},
   "outputs": [],
   "source": [
    "#Find the mul actions in the string using regular expressions\n",
    "def find_muls(text, re_patter=r'mul\\((\\d+),(\\d+)\\)'):\n",
    "    #Get all matches\n",
    "    matches = re.findall(re_patter, text)\n",
    "    #Maintain a running total of mul results\n",
    "    running_total = 0\n",
    "\n",
    "    #Iterate through matches\n",
    "    for match in matches:\n",
    "        #Convert numbers to numeric and multiply them\n",
    "        running_total += (int(match[0]) * int(match[1]))\n",
    "\n",
    "    return running_total\n",
    "\n",
    "#Process all lines of the input\n",
    "def process_input(data_in):\n",
    "    #Running total of each line\n",
    "    running_total = 0\n",
    "\n",
    "    #Process each line and update the running total\n",
    "    for line in data_in:\n",
    "        running_total += find_muls(line)\n",
    "\n",
    "    return running_total"
   ]
  },
  {
   "cell_type": "code",
   "execution_count": 4,
   "metadata": {},
   "outputs": [
    {
     "name": "stdout",
     "output_type": "stream",
     "text": [
      "183669043\n"
     ]
    }
   ],
   "source": [
    "print(process_input(data_in))"
   ]
  }
 ],
 "metadata": {
  "kernelspec": {
   "display_name": "base",
   "language": "python",
   "name": "python3"
  },
  "language_info": {
   "codemirror_mode": {
    "name": "ipython",
    "version": 3
   },
   "file_extension": ".py",
   "mimetype": "text/x-python",
   "name": "python",
   "nbconvert_exporter": "python",
   "pygments_lexer": "ipython3",
   "version": "3.12.4"
  }
 },
 "nbformat": 4,
 "nbformat_minor": 2
}
