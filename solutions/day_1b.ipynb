{
 "cells": [
  {
   "cell_type": "markdown",
   "metadata": {},
   "source": [
    "#### Day 1 - B\n",
    "Convert input into 2 lists. Multiply each item in the left list by how many times it appears in the right list and sum this."
   ]
  },
  {
   "cell_type": "code",
   "execution_count": 7,
   "metadata": {},
   "outputs": [],
   "source": [
    "#Import Libraries and settings\n",
    "import bisect\n",
    "\n",
    "settings = {\n",
    "    \"day\": 1,\n",
    "    \"test_data\": 0\n",
    "}"
   ]
  },
  {
   "cell_type": "code",
   "execution_count": 8,
   "metadata": {},
   "outputs": [],
   "source": [
    "#Load Input\n",
    "def load_input(settings):\n",
    "    #Derrive input file name\n",
    "    if settings[\"test_data\"]:\n",
    "        data_subdir = \"test\"\n",
    "    else:\n",
    "        data_subdir = \"actual\"\n",
    "\n",
    "    data_fp = f\"./../input/{data_subdir}/{settings[\"day\"]}.txt\"\n",
    "\n",
    "    #Open and read the file\n",
    "    with open(data_fp) as f:\n",
    "        lines = f.read().split('\\n')\n",
    "        \n",
    "        \n",
    "    #Split each line in two and convert to num\n",
    "    lines = [x.split(\"  \") for x in lines]\n",
    "    lines = [[int(y) for y in line] for line in lines]\n",
    "\n",
    "    return lines\n",
    "\n",
    "data_in = load_input(settings)"
   ]
  },
  {
   "cell_type": "code",
   "execution_count": null,
   "metadata": {},
   "outputs": [],
   "source": [
    "#Split the input into 2 lists (and sort them)\n",
    "def extract_nums_from_input(data):\n",
    "    out_l = []\n",
    "    out_r = []\n",
    "\n",
    "    for line in data:\n",
    "        bisect.insort(out_l, line[0])\n",
    "        bisect.insort(out_r, line[1])\n",
    "\n",
    "    return out_l, out_r\n",
    "\n",
    "#Count how many times the target appears in the nums list\n",
    "def process_num(target, nums, memory):\n",
    "    #Check if this target was already calculated\n",
    "    if target in memory.keys():\n",
    "        return memory[target]\n",
    "\n",
    "    #Calculate score\n",
    "    instances_of_target = 0\n",
    "    for num in nums:\n",
    "        if target == num:\n",
    "            instances_of_target += 1\n",
    "\n",
    "    score = target * instances_of_target\n",
    "\n",
    "    #Update memory\n",
    "    memory[target] = score\n",
    "\n",
    "    return score\n",
    "\n",
    "#Combine the two lists into a single number (solution)\n",
    "def combine_lists(nums_l, nums_r):\n",
    "    #Iterate through lists\n",
    "    running_total = 0\n",
    "    memory = {}\n",
    "    for idx, num_l in enumerate(nums_l):\n",
    "        #Get the difference in the paired numbers\n",
    "        running_total += process_num(num_l, nums_r, memory)\n",
    "\n",
    "    return running_total\n",
    "\n",
    "#Split input into seperate sorted lists\n",
    "nums_l, nums_r = extract_nums_from_input(data_in)\n",
    "solution = combine_lists(nums_l, nums_r)"
   ]
  },
  {
   "cell_type": "code",
   "execution_count": 10,
   "metadata": {},
   "outputs": [
    {
     "name": "stdout",
     "output_type": "stream",
     "text": [
      "21790168\n"
     ]
    }
   ],
   "source": [
    "print(solution)"
   ]
  }
 ],
 "metadata": {
  "kernelspec": {
   "display_name": "base",
   "language": "python",
   "name": "python3"
  },
  "language_info": {
   "codemirror_mode": {
    "name": "ipython",
    "version": 3
   },
   "file_extension": ".py",
   "mimetype": "text/x-python",
   "name": "python",
   "nbconvert_exporter": "python",
   "pygments_lexer": "ipython3",
   "version": "3.12.4"
  }
 },
 "nbformat": 4,
 "nbformat_minor": 2
}
