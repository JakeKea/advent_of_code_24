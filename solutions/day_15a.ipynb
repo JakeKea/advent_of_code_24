{
 "cells": [
  {
   "cell_type": "markdown",
   "metadata": {},
   "source": [
    "#### Day 15 - A\n",
    "Complete the robot instructions and monitor the warehouse layout"
   ]
  },
  {
   "cell_type": "code",
   "execution_count": 189,
   "metadata": {},
   "outputs": [],
   "source": [
    "#Import Libraries and settings\n",
    "from copy import deepcopy\n",
    "\n",
    "settings = {\n",
    "    \"day\": 15,\n",
    "    \"test_data\": 0\n",
    "}"
   ]
  },
  {
   "cell_type": "code",
   "execution_count": 190,
   "metadata": {},
   "outputs": [],
   "source": [
    "#Load Input\n",
    "def load_input(settings):\n",
    "    #Derrive input file name\n",
    "    if settings[\"test_data\"]:\n",
    "        data_subdir = \"test\"\n",
    "    else:\n",
    "        data_subdir = \"actual\"\n",
    "\n",
    "    data_fp = f\"./../input/{data_subdir}/{settings[\"day\"]}.txt\"\n",
    "\n",
    "    #Open and read the file\n",
    "    with open(data_fp) as f:\n",
    "        lines = f.read().split('\\n')\n",
    "\n",
    "    #Save grid to 2D array and inputs to seperate array\n",
    "    at_grid = True\n",
    "    inputs = []\n",
    "    grid = []\n",
    "    for idx_y, line in enumerate(lines):\n",
    "\n",
    "        #Check if the grid has finished\n",
    "        if line == \"\":\n",
    "            at_grid = False\n",
    "        else:\n",
    "            if at_grid:\n",
    "                if \"@\" in line:\n",
    "                    robot_loc = (line.find(\"@\"), idx_y)\n",
    "                grid.append(list(line))\n",
    "            else:\n",
    "                inputs += list(line)\n",
    "\n",
    "    return grid, inputs, robot_loc\n",
    "\n",
    "grid_base, inputs, starting_loc = load_input(settings)"
   ]
  },
  {
   "cell_type": "code",
   "execution_count": 191,
   "metadata": {},
   "outputs": [],
   "source": [
    "grid = deepcopy(grid_base)"
   ]
  },
  {
   "cell_type": "code",
   "execution_count": 192,
   "metadata": {},
   "outputs": [],
   "source": [
    "def check_loc(grid, loc):\n",
    "    return grid[loc[1]][loc[0]]"
   ]
  },
  {
   "cell_type": "code",
   "execution_count": 193,
   "metadata": {},
   "outputs": [],
   "source": [
    "#Convert compass direction into a dir tuple\n",
    "def translate_step(dir_g, mag=1):\n",
    "    v = 0\n",
    "    h = 0\n",
    "\n",
    "    if \"^\" in dir_g:\n",
    "        v = -mag\n",
    "    elif \"v\" in dir_g:\n",
    "        v = mag\n",
    "\n",
    "    if \">\" in dir_g:\n",
    "        h = mag\n",
    "    elif \"<\" in dir_g:\n",
    "        h = -mag\n",
    "\n",
    "    return (h, v)\n",
    "\n",
    "#Apply a direction to a location\n",
    "def apply_move(loc, dir, mag=1):\n",
    "    step = translate_step(dir, mag)\n",
    "    return (loc[0]+step[0], loc[1]+step[1])\n",
    "\n",
    "#Test the next move\n",
    "def try_next_move(grid, c_loc, dir):\n",
    "    #Get character for current location\n",
    "    c_char = check_loc(grid, c_loc)\n",
    "    #Get the next location and character currently in the space\n",
    "    next_loc = apply_move(c_loc, dir)\n",
    "    next_char = check_loc(grid, next_loc)\n",
    "\n",
    "    #If wall, do not return a move\n",
    "    if (next_char == \"#\"):\n",
    "        return []\n",
    "    #If open space, return a move\n",
    "    elif (next_char == \".\"):\n",
    "        return [(c_char, c_loc, next_loc)]\n",
    "    #If a box, check if the box can move and domino effect\n",
    "    elif (next_char == \"O\"):\n",
    "        #Get the fallout from moving this box\n",
    "        res = try_next_move(grid, next_loc, dir)\n",
    "        #If no res then box cannot move\n",
    "        if res == []:\n",
    "            return []\n",
    "        #If res then move robot along with box(es)\n",
    "        else:\n",
    "            return [(c_char, c_loc, next_loc)] + res\n",
    "\n",
    "#Apply a list of moves to the grid\n",
    "def apply_next_moves(grid, moves):\n",
    "    \n",
    "    #Apply moves in reverse\n",
    "    for move in moves[::-1]:\n",
    "        old_loc = move[1]\n",
    "        new_loc = move[2]\n",
    "\n",
    "        #Check if the character moving is the robot\n",
    "        if move[0] == \"@\":\n",
    "            #Set n_loc so the robot's position can be updated\n",
    "            n_loc = new_loc\n",
    "\n",
    "        grid[new_loc[1]][new_loc[0]] = grid[old_loc[1]][old_loc[0]]\n",
    "        grid[old_loc[1]][old_loc[0]] = \".\"\n",
    "\n",
    "    return n_loc"
   ]
  },
  {
   "cell_type": "code",
   "execution_count": 194,
   "metadata": {},
   "outputs": [],
   "source": [
    "#Apply the input to the robot\n",
    "def apply_instructions(grid, inputs, c_loc):\n",
    "    for dir in inputs:\n",
    "        moves = try_next_move(grid, c_loc, dir)\n",
    "        if moves:\n",
    "            c_loc = apply_next_moves(grid, moves)\n",
    "\n",
    "def calculate_score(grid):\n",
    "    subtotal = 0\n",
    "    for idx_y, line in enumerate(grid):\n",
    "        for idx_x, space in enumerate(line):\n",
    "            if space == \"O\":\n",
    "                subtotal += (100*idx_y) + idx_x\n",
    "\n",
    "    return subtotal"
   ]
  },
  {
   "cell_type": "code",
   "execution_count": 195,
   "metadata": {},
   "outputs": [],
   "source": [
    "apply_instructions(grid, inputs, starting_loc)"
   ]
  },
  {
   "cell_type": "code",
   "execution_count": 196,
   "metadata": {},
   "outputs": [
    {
     "data": {
      "text/plain": [
       "1517819"
      ]
     },
     "execution_count": 196,
     "metadata": {},
     "output_type": "execute_result"
    }
   ],
   "source": [
    "calculate_score(grid)"
   ]
  }
 ],
 "metadata": {
  "kernelspec": {
   "display_name": "base",
   "language": "python",
   "name": "python3"
  },
  "language_info": {
   "codemirror_mode": {
    "name": "ipython",
    "version": 3
   },
   "file_extension": ".py",
   "mimetype": "text/x-python",
   "name": "python",
   "nbconvert_exporter": "python",
   "pygments_lexer": "ipython3",
   "version": "3.12.7"
  }
 },
 "nbformat": 4,
 "nbformat_minor": 2
}
