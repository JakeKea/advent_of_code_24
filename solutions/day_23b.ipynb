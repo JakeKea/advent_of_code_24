{
 "cells": [
  {
   "cell_type": "markdown",
   "metadata": {},
   "source": [
    "#### Day 23 - A\n",
    "The input is connections between computers.\n",
    "Find the biggest clique and get it's element in alphabetical order"
   ]
  },
  {
   "cell_type": "code",
   "execution_count": 1,
   "metadata": {},
   "outputs": [],
   "source": [
    "#Import Libraries and settings\n",
    "import networkx as nx\n",
    "import matplotlib.pyplot as plt\n",
    "\n",
    "settings = {\n",
    "    \"day\": 23,\n",
    "    \"test_data\": 0\n",
    "}"
   ]
  },
  {
   "cell_type": "code",
   "execution_count": 2,
   "metadata": {},
   "outputs": [],
   "source": [
    "#Load Input\n",
    "def load_input(settings):\n",
    "    #Derrive input file name\n",
    "    if settings[\"test_data\"]:\n",
    "        data_subdir = \"test\"\n",
    "    else:\n",
    "        data_subdir = \"actual\"\n",
    "\n",
    "    data_fp = f\"./../input/{data_subdir}/{settings[\"day\"]}.txt\"\n",
    "\n",
    "    #Open and read the file\n",
    "    with open(data_fp) as f:\n",
    "        lines = f.read().split('\\n')\n",
    "\n",
    "    #Build dictionary of connections\n",
    "    connections = {}\n",
    "\n",
    "    for line in lines:\n",
    "        pcs = line.split(\"-\")\n",
    "        if pcs[0] not in connections.keys():\n",
    "            connections[pcs[0]] = [pcs[1]]\n",
    "        else:\n",
    "            connections[pcs[0]].append(pcs[1])\n",
    "\n",
    "        if pcs[1] not in connections.keys():\n",
    "            connections[pcs[1]] = [pcs[0]]\n",
    "        else:\n",
    "            connections[pcs[1]].append(pcs[0])\n",
    "\n",
    "    return connections\n",
    "\n",
    "connections = load_input(settings)"
   ]
  },
  {
   "cell_type": "code",
   "execution_count": 5,
   "metadata": {},
   "outputs": [],
   "source": [
    "#Build a network of connections\n",
    "G = nx.Graph()\n",
    "\n",
    "edge_set = set()\n",
    "\n",
    "for host in connections.keys():\n",
    "    G.add_node(host)\n",
    "    for edge in connections[host]:\n",
    "        pair = [host, edge]\n",
    "        pair.sort()\n",
    "        edge_set.add(tuple(pair))\n",
    "\n",
    "for edge in edge_set:\n",
    "    G.add_edge(edge[0], edge[1])"
   ]
  },
  {
   "cell_type": "code",
   "execution_count": 16,
   "metadata": {},
   "outputs": [
    {
     "name": "stdout",
     "output_type": "stream",
     "text": [
      "bx,cx,dr,dx,is,jg,km,kt,li,lt,nh,uf,um\n"
     ]
    }
   ],
   "source": [
    "# Find all cliques\n",
    "cliques = list(nx.find_cliques(G))\n",
    "#Sort by the size of the clique\n",
    "cliques = sorted(cliques, key=len)\n",
    "\n",
    "# Print the biggest clique in element order\n",
    "biggest = cliques[-1]\n",
    "biggest.sort()\n",
    "print(\",\".join(biggest))"
   ]
  }
 ],
 "metadata": {
  "kernelspec": {
   "display_name": "base",
   "language": "python",
   "name": "python3"
  },
  "language_info": {
   "codemirror_mode": {
    "name": "ipython",
    "version": 3
   },
   "file_extension": ".py",
   "mimetype": "text/x-python",
   "name": "python",
   "nbconvert_exporter": "python",
   "pygments_lexer": "ipython3",
   "version": "3.12.7"
  }
 },
 "nbformat": 4,
 "nbformat_minor": 2
}
