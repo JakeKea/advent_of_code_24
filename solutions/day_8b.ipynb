{
 "cells": [
  {
   "cell_type": "markdown",
   "metadata": {},
   "source": [
    "#### Day 8 - B\n",
    "In the map of characters, \"antinodes\" are created when two characters align at a location equi-distance in the opposite direction of the characters. \n",
    "\n",
    "In part B, antinodes are created at every n*equi-distance.\n",
    "\n",
    "Count the number of antinodes."
   ]
  },
  {
   "cell_type": "code",
   "execution_count": 132,
   "metadata": {},
   "outputs": [],
   "source": [
    "#Import Libraries and settings\n",
    "import math\n",
    "\n",
    "settings = {\n",
    "    \"day\": 8,\n",
    "    \"test_data\": 0\n",
    "}"
   ]
  },
  {
   "cell_type": "code",
   "execution_count": 133,
   "metadata": {},
   "outputs": [],
   "source": [
    "#Load Input\n",
    "def load_input(settings):\n",
    "    #Derrive input file name\n",
    "    if settings[\"test_data\"]:\n",
    "        data_subdir = \"test\"\n",
    "    else:\n",
    "        data_subdir = \"actual\"\n",
    "\n",
    "    data_fp = f\"./../input/{data_subdir}/{settings[\"day\"]}.txt\"\n",
    "\n",
    "    #Open and read the file\n",
    "    with open(data_fp) as f:\n",
    "        lines = f.read().split('\\n')\n",
    "\n",
    "    grid = [list(x) for x in lines]\n",
    "\n",
    "    return grid\n",
    "\n",
    "grid = load_input(settings)\n",
    "\n",
    "#Grid dimensions\n",
    "GRID_WIDTH = len(grid[0])\n",
    "GRID_HEIGHT = len(grid)"
   ]
  },
  {
   "cell_type": "code",
   "execution_count": 134,
   "metadata": {},
   "outputs": [
    {
     "name": "stdout",
     "output_type": "stream",
     "text": [
      ".......................O......T.....d......M......\n",
      "..............................F...................\n",
      "..........V..................R....................\n",
      "............B..t..........T..........d............\n",
      ".....................B.........T................M.\n",
      "..V.................................2.......M.....\n",
      ".......V........................F.O..........2....\n",
      "...................................T..............\n",
      "..................................................\n",
      "......r..........B......................c.........\n",
      ".....o3.B.............................2...........\n",
      "..................1...m..o....d..c.....M..........\n",
      "......Qr....o............F....0............1......\n",
      "....Q.......................0....................2\n",
      "......t..........0................................\n",
      ".............R.................................mL.\n",
      "....r..............3.....................c..1.....\n",
      ".........Q.........................1..............\n",
      "................x...R.............................\n",
      "...x........8.R...................................\n",
      "..................8...............................\n",
      "........x.u.................Z.....................\n",
      "...........................X...............d......\n",
      "....................30.....................f......\n",
      "......q...............v...................c.......\n",
      "..........t8.........D.3..........................\n",
      ".......t.......4.............8....................\n",
      "...b..................C...........D...............\n",
      ".........................v..ND4..........K........\n",
      ".......F.........u...........C..............fZ....\n",
      "........X..9...........N.........Z..........k.....\n",
      ".............X.6...q..........................k...\n",
      "..............................C.Z...........m....k\n",
      "...................4.v..............N.............\n",
      "....................u.......D..............m......\n",
      "............................vl.....UK.............\n",
      "............................l..6.......f..........\n",
      "..................q.4............N................\n",
      "..........b....x..............fu..................\n",
      ".9..................................U.......l.....\n",
      "....w......b.........L......6.....z.5.............\n",
      "..........X..........W6........5............z.....\n",
      "...........q..........L............z........n...W.\n",
      "............................5.........n...W..z....\n",
      "........9........w................7....n..........\n",
      "............w......................7...K.....n....\n",
      ".........................U....K......W............\n",
      ".........w.....L.................k....7...........\n",
      "...................7.............l.............5..\n",
      "..............9...................................\n"
     ]
    }
   ],
   "source": [
    "#Visualise Input\n",
    "for idx, line in enumerate(grid):\n",
    "    print(\"\".join(line))"
   ]
  },
  {
   "cell_type": "code",
   "execution_count": 135,
   "metadata": {},
   "outputs": [],
   "source": [
    "#Build a grid map\n",
    "def build_grid_map(grid, break_char=\".\"):\n",
    "    #Build a dict containing the grid location of every non-break character\n",
    "    grid_map = {}\n",
    "    for idx_y, line in enumerate(grid):\n",
    "        for idx_x, char in enumerate(line):\n",
    "            if char != break_char:\n",
    "                if char in grid_map.keys():\n",
    "                    grid_map[char].append((idx_x, idx_y))\n",
    "                else:\n",
    "                    grid_map[char] = [(idx_x, idx_y)]\n",
    "\n",
    "    return grid_map\n",
    "\n",
    "grid_map = build_grid_map(grid)"
   ]
  },
  {
   "cell_type": "code",
   "execution_count": 136,
   "metadata": {},
   "outputs": [],
   "source": [
    "#Reduce the delta_x and delta_y to the smallest possible unit\n",
    "def unit_delta(x, y):\n",
    "    gcd = math.gcd(x, y)\n",
    "    return (int(x/gcd), int(y/gcd))\n",
    "\n",
    "#Check if a location is in the grid boundaries\n",
    "def in_bounds(loc):\n",
    "    if (loc[0] >= 0) and (loc[0] < GRID_WIDTH):\n",
    "        if (loc[1] >= 0) and (loc[1] < GRID_HEIGHT):\n",
    "            return True\n",
    "    return False\n",
    "\n",
    "#For a given loc and unit delta, get all anti_locs\n",
    "def get_all_anti_locs_for_delta(loc, deltas, sign, anti_locs):\n",
    "\n",
    "    anti_ib = True\n",
    "    mul = 0\n",
    "    #Check the anti_loc for every multiple of the delta until it reaches out of the grid boundaries\n",
    "    while(anti_ib):\n",
    "        anti = (loc[0] + sign*mul*deltas[0], loc[1] + sign*mul*deltas[1])\n",
    "        if in_bounds(anti):\n",
    "            anti_locs.add(anti)\n",
    "            mul += 1\n",
    "        else:\n",
    "            anti_ib = False\n",
    "\n",
    "#Find the anti_locs for each pair of locations\n",
    "def find_anti_locs(base, other, anti_locs = {}):\n",
    "\n",
    "    #Compare the base against every other instance of the character in the gird\n",
    "    for item in other:\n",
    "        delta_x_act = base[0] - item[0]\n",
    "        delta_y_act = base[1] - item[1]\n",
    "\n",
    "        #Normalise the deltas to their gcd\n",
    "        deltas = unit_delta(delta_x_act, delta_y_act)\n",
    "\n",
    "        #Get all anti_loc locations for this pair of characters\n",
    "        get_all_anti_locs_for_delta(base, deltas, 1, anti_locs)\n",
    "        get_all_anti_locs_for_delta(base, deltas, -1, anti_locs)\n",
    "\n",
    "#Look for antinodes of a specified character\n",
    "def anti_in_char(grid_map, char, anti_locs={}):\n",
    "    char_locs = grid_map[char]\n",
    "\n",
    "    #Create the anti_locs using each character instance as the base\n",
    "    for idx_c, base_loc in enumerate(char_locs):\n",
    "        find_anti_locs(base_loc, char_locs[idx_c+1:], anti_locs)\n",
    "\n",
    "#Find all anti_locs\n",
    "def process_all_chars(grid_map):\n",
    "    anti_locs = set()\n",
    "    for char in grid_map.keys():\n",
    "        anti_in_char(grid_map, char, anti_locs)\n",
    "\n",
    "    return anti_locs"
   ]
  },
  {
   "cell_type": "code",
   "execution_count": 137,
   "metadata": {},
   "outputs": [],
   "source": [
    "anti_locs = process_all_chars(grid_map)"
   ]
  },
  {
   "cell_type": "code",
   "execution_count": 138,
   "metadata": {},
   "outputs": [
    {
     "data": {
      "text/plain": [
       "991"
      ]
     },
     "execution_count": 138,
     "metadata": {},
     "output_type": "execute_result"
    }
   ],
   "source": [
    "#Solution\n",
    "len(anti_locs)"
   ]
  },
  {
   "cell_type": "code",
   "execution_count": 139,
   "metadata": {},
   "outputs": [
    {
     "name": "stdout",
     "output_type": "stream",
     "text": [
      ".#.##......#.##.##.....#......#...#.#..##..#..#.#.\n",
      "#....#.....#.#.###....#.#..##.#........#..........\n",
      "#.##.#..###....#.#..##....#..#.........#.......#..\n",
      "..#.#.....#.#..#..#.....####...#...#.#...#..##..#.\n",
      ".###.#.#.....#..#....##....#...#.#.......#....#.#.\n",
      "####........##......##....##..#.....#..##...#.....\n",
      ".#..##.#.........##...#.##......#.#...#####.##..#.\n",
      "..##...#...##.###......#...##......##...#.....###.\n",
      "#..###....#...#..##...#...#.....#.....#.###.#.....\n",
      "..#.###.....##...##..##.....#....#.##..##.........\n",
      "#...###.#.#.......##....#..#....#.#...##...#.#.#..\n",
      ".##...#.#...#.....###.##.#...##.###....#.#.##.....\n",
      "..#...###...###.#.#.#..#.#....#####..#.##.##.#...#\n",
      "...###..#.#####.#.....#...#.#.#......#...###..#.##\n",
      ".##.#.####..##...#.#.#..#.#....#........##.##.##..\n",
      "#...###.#.#..##....#..####....##...#..#.##....####\n",
      "##.##.#..#.#..#.#..#..#...#....##.#.##..###.#.###.\n",
      "#...#.##.#.##..#..#.#....##..#..#.##......#...###.\n",
      "#.....#####.###.#.#.#..##.#...##.#..#..#..#...#...\n",
      "...#.##..####.#.##...###....#..#.#.....##....#....\n",
      ".###....#.##.###..##....####.......#..#.#.####.##.\n",
      ".##.....#.###.#.##...##.#.###.....#..##....#.##.##\n",
      "..#.......#.###..#.#....##.##.#.#..#.#.#..##...#.#\n",
      "..#...#.#....#.##.#.###....#.##.#..##....###.#....\n",
      "#..#.##....#.##....#..##.##..#..#.#.#.#.#.#.###.##\n",
      "....##....##...#.#####.#....#....##.#..#..#.#...#.\n",
      "..#.#..#..#...###....#.....###.#.####.###......#.#\n",
      "#..##...#.#.#..###.#..##..#.....###..###.#.#.#.#..\n",
      ".#...#.........#..#....#.#..###...#.##.###...###..\n",
      ".#.#...#...#..#..###....#...##.....##.###.#.##.#.#\n",
      "#..##.#.##.#.#..#..###.#.#...#...##.....#..####.##\n",
      ".#........#..###.#.#.#....#.....###.##.##.#...#...\n",
      ".......#.#.##....##...#..#.##.#.#.#.#.#.#..##..###\n",
      "...##.......#.#..###.#.#...#####...####.##.#..##..\n",
      "........#..###.#..#.#...#..#####...........#.#..#.\n",
      ".........##.......###.#..#.#####.#.##.#.##.#.#..#.\n",
      ".....#..##....##...#......#.#.###.#...##..#.#...##\n",
      "...##....#.......##.#####..#.#..####.##..####.#.#.\n",
      "...#..#.###...##.#..#.....#.######......##..#.###.\n",
      "####.#...#......#..#.#.####..#....#.#.#..####....#\n",
      "....#......#...#.....#.##..##.#...####..#...#..#.#\n",
      "..........#...#...#..###.#...#####..#..#....#.##.#\n",
      "...........##...##..#.#.#.##...##..#.#.#..#.#.#.#.\n",
      "..#....##.#..#.#.#..###...#.#..########...#..#....\n",
      "...##...#...##..##..#..#.###....#.#.####.#.#.#..#.\n",
      "...#....#.###.....##..#..###..##...#...##...####..\n",
      "......##..#..##...#.#...###...#...#.###..#......#.\n",
      ".##.##...#....#####..##....#..#..#.#.##...#..#.#..\n",
      "........##..#..##..#..#.##...##..#..#.#.#.##.###..\n",
      "#.##..##....#.####.#...##.#..#..#.##...#.#..#...##\n"
     ]
    }
   ],
   "source": [
    "#Print antinode grid\n",
    "def print_anti_grid(anti_locs):\n",
    "    GRID_HEIGHT\n",
    "    GRID_WIDTH\n",
    "\n",
    "    anti_grid = [[\".\"] * GRID_WIDTH for _ in range(GRID_HEIGHT)]\n",
    "\n",
    "    for anti_loc in anti_locs:\n",
    "        anti_grid[anti_loc[1]][anti_loc[0]] = \"#\"\n",
    "\n",
    "    for idx, line in enumerate(anti_grid):\n",
    "        print(\"\".join(line))\n",
    "\n",
    "print_anti_grid(anti_locs)"
   ]
  }
 ],
 "metadata": {
  "kernelspec": {
   "display_name": "base",
   "language": "python",
   "name": "python3"
  },
  "language_info": {
   "codemirror_mode": {
    "name": "ipython",
    "version": 3
   },
   "file_extension": ".py",
   "mimetype": "text/x-python",
   "name": "python",
   "nbconvert_exporter": "python",
   "pygments_lexer": "ipython3",
   "version": "3.12.4"
  }
 },
 "nbformat": 4,
 "nbformat_minor": 2
}
