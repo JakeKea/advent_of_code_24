{
 "cells": [
  {
   "cell_type": "markdown",
   "metadata": {},
   "source": [
    "#### Day 22 - B\n",
    "\n",
    "Evolve each number 2000 times\n",
    "Record the sequence of changes in the single digit (price) of the secret number after each evolution.\n",
    "Find the best sequence of 4 numbers to apply to every seller to get the max price."
   ]
  },
  {
   "cell_type": "code",
   "execution_count": 90,
   "metadata": {},
   "outputs": [],
   "source": [
    "#Import Libraries and settings\n",
    "\n",
    "settings = {\n",
    "    \"day\": 22,\n",
    "    \"test_data\": 0\n",
    "}"
   ]
  },
  {
   "cell_type": "code",
   "execution_count": 91,
   "metadata": {},
   "outputs": [],
   "source": [
    "#Load Input\n",
    "def load_input(settings):\n",
    "    #Derrive input file name\n",
    "    if settings[\"test_data\"]:\n",
    "        data_subdir = \"test\"\n",
    "    else:\n",
    "        data_subdir = \"actual\"\n",
    "\n",
    "    data_fp = f\"./../input/{data_subdir}/{settings[\"day\"]}.txt\"\n",
    "\n",
    "    #Open and read the file\n",
    "    with open(data_fp) as f:\n",
    "        lines = f.read().split('\\n')\n",
    "\n",
    "    nums = [int(x) for x in lines]\n",
    "\n",
    "    return nums\n",
    "\n",
    "data_in = load_input(settings)"
   ]
  },
  {
   "cell_type": "markdown",
   "metadata": {},
   "source": [
    "1) For each secret number, return the array of sequences for each evolution step"
   ]
  },
  {
   "cell_type": "code",
   "execution_count": 92,
   "metadata": {},
   "outputs": [],
   "source": [
    "def evolve_m_rule(x, n):\n",
    "    return (x ^ (n*x)) % 16777216\n",
    "\n",
    "def evolve_d_rule(x, n):\n",
    "    return (x ^ int(x/n)) % 16777216\n",
    "\n",
    "def evolve_secret_num(x):\n",
    "    return evolve_m_rule(evolve_d_rule(evolve_m_rule(x, 64), 32), 2048)\n",
    "\n",
    "def evolve_n_stages(x, n, debug=False):\n",
    "\n",
    "    seqs = []\n",
    "\n",
    "    current_seq = []\n",
    "    prev = x % 10\n",
    "\n",
    "    for i in range(n):\n",
    "        x = evolve_secret_num(x)\n",
    "        curr = x % 10        \n",
    "        current_seq.append(curr - prev)\n",
    "        prev = curr\n",
    "\n",
    "        if i >= 3:\n",
    "            seqs.append((tuple(current_seq[-4:]), curr))\n",
    "\n",
    "\n",
    "        if debug:\n",
    "            print(x, curr, current_seq)\n",
    "\n",
    "    return seqs"
   ]
  },
  {
   "cell_type": "code",
   "execution_count": 93,
   "metadata": {},
   "outputs": [
    {
     "name": "stdout",
     "output_type": "stream",
     "text": [
      "0 lines processed..\n",
      "100 lines processed..\n",
      "200 lines processed..\n",
      "300 lines processed..\n",
      "400 lines processed..\n",
      "500 lines processed..\n",
      "600 lines processed..\n",
      "700 lines processed..\n",
      "800 lines processed..\n",
      "900 lines processed..\n",
      "1000 lines processed..\n",
      "1100 lines processed..\n",
      "1200 lines processed..\n",
      "1300 lines processed..\n",
      "1400 lines processed..\n",
      "1500 lines processed..\n",
      "1600 lines processed..\n",
      "1700 lines processed..\n"
     ]
    }
   ],
   "source": [
    "#Get the sequence for each buyer\n",
    "buyer_seqs = []\n",
    "for idx, num in enumerate(data_in):\n",
    "    res = evolve_n_stages(num, 2000, debug=False)\n",
    "    buyer_seqs.append(res)\n",
    "    \n",
    "    if idx % 100 == 0:\n",
    "        print(idx, \"lines processed..\")"
   ]
  },
  {
   "cell_type": "markdown",
   "metadata": {},
   "source": [
    "2) Build a look up dictionary that has the price for each sequence and each buyer"
   ]
  },
  {
   "cell_type": "code",
   "execution_count": 94,
   "metadata": {},
   "outputs": [],
   "source": [
    "#Build the sequence price dictionary\n",
    "sequence_lookup = {}\n",
    "for idx, seqs in enumerate(buyer_seqs):\n",
    "    for seq in seqs:\n",
    "        #Add the sequence to the dictionary\n",
    "        if seq[0] not in sequence_lookup.keys():\n",
    "            sequence_lookup[seq[0]] = {}\n",
    "\n",
    "        #Add the price for this sequence\n",
    "        if idx not in sequence_lookup[seq[0]]:\n",
    "            sequence_lookup[seq[0]][idx] = seq[1]       "
   ]
  },
  {
   "cell_type": "markdown",
   "metadata": {},
   "source": [
    "3) Iterate through the sequence lookup dictionary to find the sequence with the best price"
   ]
  },
  {
   "cell_type": "code",
   "execution_count": 95,
   "metadata": {},
   "outputs": [
    {
     "name": "stdout",
     "output_type": "stream",
     "text": [
      "(0, 0, -1, 2) 1690\n"
     ]
    }
   ],
   "source": [
    "best_price = 0\n",
    "best_sequence = 0\n",
    "\n",
    "#Get the best price for each sequence\n",
    "for seq in sequence_lookup.keys():\n",
    "    seq_price = 0\n",
    "    for idx in sequence_lookup[seq].keys():\n",
    "        seq_price += sequence_lookup[seq][idx]\n",
    "\n",
    "    if seq_price > best_price:\n",
    "        best_price = seq_price\n",
    "        best_sequence = seq\n",
    "\n",
    "print(best_sequence, best_price)"
   ]
  }
 ],
 "metadata": {
  "kernelspec": {
   "display_name": "base",
   "language": "python",
   "name": "python3"
  },
  "language_info": {
   "codemirror_mode": {
    "name": "ipython",
    "version": 3
   },
   "file_extension": ".py",
   "mimetype": "text/x-python",
   "name": "python",
   "nbconvert_exporter": "python",
   "pygments_lexer": "ipython3",
   "version": "3.12.7"
  }
 },
 "nbformat": 4,
 "nbformat_minor": 2
}
