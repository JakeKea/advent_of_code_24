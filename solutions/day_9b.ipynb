{
 "cells": [
  {
   "cell_type": "markdown",
   "metadata": {},
   "source": [
    "#### Day 9 - B\n",
    "Decode line of block files, space between them and IDs for each block file.\n",
    "\n",
    "File blocks have to be compressed together.\n",
    "\n",
    "Compress the decoded line and get the sum of products of the block id and index."
   ]
  },
  {
   "cell_type": "code",
   "execution_count": 1,
   "metadata": {},
   "outputs": [],
   "source": [
    "#Import Libraries and settings\n",
    "\n",
    "settings = {\n",
    "    \"day\": 9,\n",
    "    \"test_data\": 0\n",
    "}"
   ]
  },
  {
   "cell_type": "code",
   "execution_count": 2,
   "metadata": {},
   "outputs": [],
   "source": [
    "#Load Input\n",
    "def load_input(settings):\n",
    "    #Derrive input file name\n",
    "    if settings[\"test_data\"]:\n",
    "        data_subdir = \"test\"\n",
    "    else:\n",
    "        data_subdir = \"actual\"\n",
    "\n",
    "    data_fp = f\"./../input/{data_subdir}/{settings[\"day\"]}.txt\"\n",
    "\n",
    "    #Open and read the file\n",
    "    with open(data_fp) as f:\n",
    "        line = f.read()\n",
    "\n",
    "    pairs = []\n",
    "    for pair in range(int(len(line)/2)):\n",
    "        pairs.append((line[pair*2], line[pair*2+1]))\n",
    "    pairs.append((line[-1], 0))\n",
    "\n",
    "    return pairs\n",
    "\n",
    "line_raw = load_input(settings)"
   ]
  },
  {
   "cell_type": "code",
   "execution_count": 3,
   "metadata": {},
   "outputs": [],
   "source": [
    "#Decode the line into pairs of characters and lengths\n",
    "def decode_line_2(line):\n",
    "    decoded_line = []\n",
    "    for idx, pair in enumerate(line):\n",
    "        #Convert to UTC so block index can be represented as single characters\n",
    "        decoded_line += [(chr(idx+65), int(pair[0]))]\n",
    "        decoded_line += [(\".\", int(pair[1]))]\n",
    "\n",
    "    return decoded_line\n",
    "\n",
    "line_decoded_2 = decode_line_2(line_raw)"
   ]
  },
  {
   "cell_type": "code",
   "execution_count": 4,
   "metadata": {},
   "outputs": [
    {
     "data": {
      "text/plain": [
       "[('A', 3), ('.', 7), ('B', 1), ('.', 7), ('C', 7)]"
      ]
     },
     "execution_count": 4,
     "metadata": {},
     "output_type": "execute_result"
    }
   ],
   "source": [
    "line_decoded_2[0:5]"
   ]
  },
  {
   "cell_type": "code",
   "execution_count": 5,
   "metadata": {},
   "outputs": [
    {
     "data": {
      "text/plain": [
       "[('❐', 7), ('❏', 3), ('❎', 7), ('❍', 4), ('❌', 6)]"
      ]
     },
     "execution_count": 5,
     "metadata": {},
     "output_type": "execute_result"
    }
   ],
   "source": [
    "[x for x in line_decoded_2[::-1] if x[0] != \".\"][0:5]"
   ]
  },
  {
   "cell_type": "code",
   "execution_count": 6,
   "metadata": {},
   "outputs": [],
   "source": [
    "#Compress the line by filling the gaps between files\n",
    "def compress_line_2(line):\n",
    "    back_cands = [x for x in line_decoded_2[::-1] if x[0] != \".\"]\n",
    "\n",
    "    #Attempt to insert the rightmost blocks in the list exactly once\n",
    "    for idx, cand in enumerate(back_cands):\n",
    "\n",
    "        #Get orginal cand index\n",
    "        old_idx = line.index(cand)\n",
    "\n",
    "        #Find space earlier in the list that fits the block\n",
    "        space_idx = -1\n",
    "        for idx, space in enumerate(line[:old_idx]):\n",
    "            #Check if it can be substituted\n",
    "            if space[0] == \".\" and space[1] >= cand[1]:\n",
    "                space_idx = idx\n",
    "                break\n",
    "        \n",
    "        #If no space is found, do not attempt to move the block\n",
    "        if space_idx != -1:\n",
    "\n",
    "            #Insert the block to the identified space\n",
    "            line.insert(idx, cand)\n",
    "\n",
    "            #Recalculate the empty space before and after the newly inserted block\n",
    "            remainder = space[1] - cand[1]\n",
    "            #Easier to 0 fill space before the inserted block as some code relies on the character being surrounded by \".\" blocks\n",
    "            line.insert(idx, (\".\", 0))\n",
    "            line[idx + 2] = (\".\", remainder)\n",
    "\n",
    "            #Derrive the index of the original instance of the candidate block\n",
    "            adj_idx = old_idx + 2\n",
    "\n",
    "            #Remove old instance of cand\n",
    "            del line[adj_idx]\n",
    "\n",
    "            #Combine surrounding empty spaces into a single block\n",
    "            if line[adj_idx-1][0] == \".\" and line[adj_idx][0] == \".\":\n",
    "                line[adj_idx-1] = (\".\", line[adj_idx-1][1] + line[adj_idx][1] + cand[1])\n",
    "                del line[adj_idx]\n",
    "\n",
    "    #Trim 0 width \".\" blocks\n",
    "    line = [x for x in line if x[1] > 0]\n",
    "    return line   \n",
    "\n",
    "line_decoded_2 = decode_line_2(line_raw)\n",
    "line_out = compress_line_2(line_decoded_2)"
   ]
  },
  {
   "cell_type": "code",
   "execution_count": 7,
   "metadata": {},
   "outputs": [
    {
     "name": "stdout",
     "output_type": "stream",
     "text": [
      "6448168620520\n"
     ]
    }
   ],
   "source": [
    "#Get the output from the compressed line\n",
    "def calc_out(line_out):\n",
    "    idx = 0\n",
    "    subtotal = 0\n",
    "    for pair in line_out:\n",
    "        if pair[0] != \".\":\n",
    "            num = ord(pair[0])-65\n",
    "            for i in range(pair[1]):\n",
    "                subtotal += (idx + i) * num\n",
    "        idx += pair[1]\n",
    "\n",
    "    return subtotal\n",
    "print(calc_out(line_out))"
   ]
  }
 ],
 "metadata": {
  "kernelspec": {
   "display_name": "base",
   "language": "python",
   "name": "python3"
  },
  "language_info": {
   "codemirror_mode": {
    "name": "ipython",
    "version": 3
   },
   "file_extension": ".py",
   "mimetype": "text/x-python",
   "name": "python",
   "nbconvert_exporter": "python",
   "pygments_lexer": "ipython3",
   "version": "3.12.4"
  }
 },
 "nbformat": 4,
 "nbformat_minor": 2
}
