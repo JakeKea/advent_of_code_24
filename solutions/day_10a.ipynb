{
 "cells": [
  {
   "cell_type": "markdown",
   "metadata": {},
   "source": [
    "#### Day 10 - A\n",
    "Find all paths of 0 to 9 in the number grid."
   ]
  },
  {
   "cell_type": "code",
   "execution_count": 67,
   "metadata": {},
   "outputs": [],
   "source": [
    "#Import Libraries and settings\n",
    "\n",
    "settings = {\n",
    "    \"day\": 10,\n",
    "    \"test_data\": 0\n",
    "}"
   ]
  },
  {
   "cell_type": "code",
   "execution_count": 68,
   "metadata": {},
   "outputs": [],
   "source": [
    "#Load Input\n",
    "def load_input(settings):\n",
    "    #Derrive input file name\n",
    "    if settings[\"test_data\"]:\n",
    "        data_subdir = \"test\"\n",
    "    else:\n",
    "        data_subdir = \"actual\"\n",
    "\n",
    "    data_fp = f\"./../input/{data_subdir}/{settings[\"day\"]}.txt\"\n",
    "\n",
    "    #Open and read the file\n",
    "    with open(data_fp) as f:\n",
    "        lines = f.read().split('\\n')\n",
    "\n",
    "    grid = [[int(x) for x in xs] for xs in lines]\n",
    "\n",
    "    return grid\n",
    "\n",
    "grid = load_input(settings)\n",
    "GRID_WIDTH = len(grid[0])\n",
    "GRID_HEIGHT = len(grid[0])"
   ]
  },
  {
   "cell_type": "code",
   "execution_count": null,
   "metadata": {},
   "outputs": [],
   "source": [
    "#All neighbouring spaces that are inside the grid\n",
    "def get_neighbours(loc):\n",
    "    neighbours = []\n",
    "    if loc[1]-1 >= 0:\n",
    "        neighbours.append((loc[0], loc[1]-1))\n",
    "    if loc[1]+1 < GRID_HEIGHT:\n",
    "        neighbours.append((loc[0], loc[1]+1))\n",
    "    if loc[0]-1 >= 0:\n",
    "        neighbours.append((loc[0]-1, loc[1]))\n",
    "    if loc[0]+1 < GRID_WIDTH:\n",
    "        neighbours.append((loc[0]+1, loc[1]))\n",
    "    return neighbours\n",
    "\n",
    "#Evaluate a step\n",
    "def evaluate_step(grid, loc, cur = 0):\n",
    "    target = cur + 1\n",
    "\n",
    "    neighbours = get_neighbours(loc)\n",
    "    matches = set()\n",
    "    #Iterate over potential neighbours\n",
    "    for nb in neighbours:\n",
    "        #Check if the neighbour is 1 higher than the current\n",
    "        if grid[nb[1]][nb[0]] == target:\n",
    "            #If it is a 9 then found a match\n",
    "            if target == 9:\n",
    "                matches.add(nb)\n",
    "            #Otherwise, keep searching\n",
    "            else:\n",
    "                matches.update(evaluate_step(grid, nb, cur=target))\n",
    "    return matches\n",
    "\n",
    "\n",
    "#Find all trails from a given position\n",
    "def find_trials(grid):\n",
    "    score = 0\n",
    "    for idx_y, line in enumerate(grid):\n",
    "        for idx_x, step in enumerate(line):\n",
    "            if step == 0:\n",
    "                loc = (idx_x, idx_y)\n",
    "                trailhead_score = len(evaluate_step(grid, loc))\n",
    "                score += trailhead_score\n",
    "    \n",
    "    return score\n"
   ]
  },
  {
   "cell_type": "code",
   "execution_count": 71,
   "metadata": {},
   "outputs": [
    {
     "data": {
      "text/plain": [
       "733"
      ]
     },
     "execution_count": 71,
     "metadata": {},
     "output_type": "execute_result"
    }
   ],
   "source": [
    "find_trials(grid)"
   ]
  }
 ],
 "metadata": {
  "kernelspec": {
   "display_name": "base",
   "language": "python",
   "name": "python3"
  },
  "language_info": {
   "codemirror_mode": {
    "name": "ipython",
    "version": 3
   },
   "file_extension": ".py",
   "mimetype": "text/x-python",
   "name": "python",
   "nbconvert_exporter": "python",
   "pygments_lexer": "ipython3",
   "version": "3.12.4"
  }
 },
 "nbformat": 4,
 "nbformat_minor": 2
}
