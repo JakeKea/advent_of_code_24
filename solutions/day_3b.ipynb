{
 "cells": [
  {
   "cell_type": "markdown",
   "metadata": {},
   "source": [
    "#### Day X - A\n",
    "Info on task"
   ]
  },
  {
   "cell_type": "code",
   "execution_count": 96,
   "metadata": {},
   "outputs": [],
   "source": [
    "#Import Libraries and settings\n",
    "import re\n",
    "\n",
    "settings = {\n",
    "    \"day\": 3,\n",
    "    \"test_data\": 0\n",
    "}"
   ]
  },
  {
   "cell_type": "code",
   "execution_count": 97,
   "metadata": {},
   "outputs": [],
   "source": [
    "#Load Input\n",
    "def load_input(settings):\n",
    "    #Derrive input file name\n",
    "    if settings[\"test_data\"]:\n",
    "        data_subdir = \"test\"\n",
    "    else:\n",
    "        data_subdir = \"actual\"\n",
    "\n",
    "    data_fp = f\"./../input/{data_subdir}/{settings[\"day\"]}.txt\"\n",
    "\n",
    "    #Open and read the file\n",
    "    with open(data_fp) as f:\n",
    "        lines = f.read().split('\\n')\n",
    "\n",
    "    return lines\n",
    "\n",
    "data_in = load_input(settings)"
   ]
  },
  {
   "cell_type": "code",
   "execution_count": null,
   "metadata": {},
   "outputs": [],
   "source": [
    "#Process strings of the form \"(\\d+, \\d+)\" and multiply the numbers\n",
    "def process_mul(num_match):\n",
    "    #Seperate out numbers in the input string\n",
    "    nums = num_match.split(\",\")\n",
    "    #Convert numbers to numeric and multiply them\n",
    "    return int(nums[0]) * int(nums[1])\n",
    "\n",
    "#Find the mul, do, and don't actions in the string using regular expressions\n",
    "def find_actions(text, re_patter=r'mul\\(\\d+,\\d+\\)|do\\(\\)|don\\'t\\(\\)', on=True):\n",
    "    #Get all matches\n",
    "    matches = re.findall(re_patter, text)\n",
    "\n",
    "    #Maintain a running total of mul results\n",
    "    running_total = 0\n",
    "\n",
    "    #Iterate through matches\n",
    "    for match in matches:\n",
    "        #Status must be \"on\" to process mul actions\n",
    "        if on and match[0:3] == \"mul\":\n",
    "            running_total += process_mul(match[4:-1])\n",
    "        elif match == \"do()\":\n",
    "            on = True\n",
    "        elif match == \"don't()\":\n",
    "            on = False\n",
    "\n",
    "    #Return running total and \"on\" status so it can be maintained into the next line\n",
    "    return running_total, on\n",
    "\n",
    "#Process all lines of the input\n",
    "def process_input(data_in):\n",
    "    #Running total of each line\n",
    "    running_total = 0\n",
    "    #Initialise \"on\" status\n",
    "    status = True\n",
    "\n",
    "    #Process each line and update the running total\n",
    "    for line in data_in:\n",
    "        res, status = find_actions(line, on=status)\n",
    "        running_total += res\n",
    "\n",
    "    return running_total"
   ]
  },
  {
   "cell_type": "code",
   "execution_count": 99,
   "metadata": {},
   "outputs": [
    {
     "name": "stdout",
     "output_type": "stream",
     "text": [
      "59097164\n"
     ]
    }
   ],
   "source": [
    "print(process_input(data_in))"
   ]
  }
 ],
 "metadata": {
  "kernelspec": {
   "display_name": "base",
   "language": "python",
   "name": "python3"
  },
  "language_info": {
   "codemirror_mode": {
    "name": "ipython",
    "version": 3
   },
   "file_extension": ".py",
   "mimetype": "text/x-python",
   "name": "python",
   "nbconvert_exporter": "python",
   "pygments_lexer": "ipython3",
   "version": "3.12.4"
  }
 },
 "nbformat": 4,
 "nbformat_minor": 2
}
