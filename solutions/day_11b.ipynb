{
 "cells": [
  {
   "cell_type": "markdown",
   "metadata": {},
   "source": [
    "#### Day 11 - B\n",
    "Numbers in the list follow these rules every step:\n",
    "\n",
    "* 0 -> 1\n",
    "* If the number has an even number of digits, it splits into 2 items\n",
    "  * One item with the first half of the digits\n",
    "  * One item with the second half of the digits\n",
    "* x -> 2024 * x\n",
    "\n",
    "Get the number of items after 75 steps."
   ]
  },
  {
   "cell_type": "code",
   "execution_count": null,
   "metadata": {},
   "outputs": [],
   "source": [
    "#Import Libraries and settings\n",
    "\n",
    "settings = {\n",
    "    \"day\": 11,\n",
    "    \"test_data\": 0\n",
    "}\n",
    "\n",
    "#Variable to remember already processed problems\n",
    "history = {}"
   ]
  },
  {
   "cell_type": "code",
   "execution_count": 58,
   "metadata": {},
   "outputs": [],
   "source": [
    "#Load Input\n",
    "def load_input(settings):\n",
    "    #Derrive input file name\n",
    "    if settings[\"test_data\"]:\n",
    "        data_subdir = \"test\"\n",
    "    else:\n",
    "        data_subdir = \"actual\"\n",
    "\n",
    "    data_fp = f\"./../input/{data_subdir}/{settings[\"day\"]}.txt\"\n",
    "\n",
    "    #Open and read the file\n",
    "    with open(data_fp) as f:\n",
    "        nums = f.read().split(' ')\n",
    "\n",
    "    #Convert to a list of numbers\n",
    "    nums = [int(x) for x in nums]\n",
    "\n",
    "    return nums\n",
    "\n",
    "data_in = load_input(settings)"
   ]
  },
  {
   "cell_type": "code",
   "execution_count": 59,
   "metadata": {},
   "outputs": [],
   "source": [
    "#Check if a value exists in history and load the value\n",
    "def check_history(order):\n",
    "    global history\n",
    "\n",
    "    if order in history.keys():\n",
    "        return history[order]\n",
    "    else:\n",
    "        return False\n",
    "\n",
    "#Add a result to history\n",
    "def write_history(key, value):\n",
    "    global history\n",
    "    history[key] = value"
   ]
  },
  {
   "cell_type": "code",
   "execution_count": 60,
   "metadata": {},
   "outputs": [],
   "source": [
    "# 0 -> 1\n",
    "def apply_rule_1():\n",
    "    return [1]\n",
    "\n",
    "# If the number has an even number of digits, it splits into 2 items\n",
    "#  * One item with the first half of the digits\n",
    "#  * One item with the second half of the digits\n",
    "def apply_rule_2(num):\n",
    "    digits = str(num)\n",
    "    mid_point = int(len(digits)/2)\n",
    "    return [int(digits[:mid_point]), int(digits[mid_point:])]\n",
    "\n",
    "# x -> 2024 * x\n",
    "def apply_rule_3(num):\n",
    "    return [num * 2024]\n",
    "\n",
    "def apply_rules(num):\n",
    "    #Decide which rule to apply and add the result to the step array\n",
    "    if num == 0:\n",
    "        res = apply_rule_1()\n",
    "    elif len(str(num))%2 == 0:\n",
    "        res = apply_rule_2(num)\n",
    "    else:\n",
    "        res = apply_rule_3(num)\n",
    "\n",
    "    return res"
   ]
  },
  {
   "cell_type": "code",
   "execution_count": null,
   "metadata": {},
   "outputs": [],
   "source": [
    "#For a given order (num, blinks) return the number of stones created\n",
    "def calculate_stones(order):\n",
    "    #Check history for result\n",
    "    hist_res = check_history(order)\n",
    "    if hist_res:\n",
    "        return hist_res\n",
    "\n",
    "    num = order[0]\n",
    "    blinks = order[1]\n",
    "    \n",
    "    next_nums = apply_rules(num)\n",
    "    #print(order, next_nums)\n",
    "\n",
    "    if blinks == 1:\n",
    "        res = len(next_nums)\n",
    "    else:\n",
    "        subtotal = 0\n",
    "        for next_num in next_nums:\n",
    "            subtotal += calculate_stones((next_num, blinks-1))\n",
    "\n",
    "        res = subtotal\n",
    "\n",
    "    #Update history with new result\n",
    "    write_history(order, res)\n",
    "    return res"
   ]
  },
  {
   "cell_type": "code",
   "execution_count": 62,
   "metadata": {},
   "outputs": [],
   "source": [
    "#Process all numbers in the input\n",
    "def process_input(nums, blinks):\n",
    "    subtotal = 0\n",
    "    for num in nums:\n",
    "        subtotal += calculate_stones((num, blinks))\n",
    "\n",
    "    return subtotal"
   ]
  },
  {
   "cell_type": "code",
   "execution_count": 63,
   "metadata": {},
   "outputs": [
    {
     "data": {
      "text/plain": [
       "259593838049805"
      ]
     },
     "execution_count": 63,
     "metadata": {},
     "output_type": "execute_result"
    }
   ],
   "source": [
    "process_input(data_in, blinks=75)"
   ]
  }
 ],
 "metadata": {
  "kernelspec": {
   "display_name": "base",
   "language": "python",
   "name": "python3"
  },
  "language_info": {
   "codemirror_mode": {
    "name": "ipython",
    "version": 3
   },
   "file_extension": ".py",
   "mimetype": "text/x-python",
   "name": "python",
   "nbconvert_exporter": "python",
   "pygments_lexer": "ipython3",
   "version": "3.12.4"
  }
 },
 "nbformat": 4,
 "nbformat_minor": 2
}
