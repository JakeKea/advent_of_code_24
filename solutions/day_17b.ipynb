{
 "cells": [
  {
   "cell_type": "markdown",
   "metadata": {},
   "source": [
    "#### Day 17 - B\n",
    "Find the minimum value of A that outputs the input.\n",
    "\n",
    "Note: This code only works with my specific input as I simplified the iterations to a single function by hardcoding my program line. "
   ]
  },
  {
   "cell_type": "code",
   "execution_count": 295,
   "metadata": {},
   "outputs": [],
   "source": [
    "#Import Libraries and settings\n",
    "\n",
    "settings = {\n",
    "    \"day\": 17,\n",
    "    \"test_data\": 0\n",
    "}"
   ]
  },
  {
   "cell_type": "code",
   "execution_count": 296,
   "metadata": {},
   "outputs": [],
   "source": [
    "#Load Input\n",
    "def load_input(settings):\n",
    "    #Derrive input file name\n",
    "    if settings[\"test_data\"]:\n",
    "        data_subdir = \"test\"\n",
    "    else:\n",
    "        data_subdir = \"actual\"\n",
    "\n",
    "    data_fp = f\"./../input/{data_subdir}/{settings[\"day\"]}.txt\"\n",
    "\n",
    "    #Open and read the file\n",
    "    with open(data_fp) as f:\n",
    "        lines = f.read().split('\\n')\n",
    "\n",
    "    program_line = lines[4].split(\" \")[1].split(\",\")\n",
    "    program_line = [int(x) for x in program_line]\n",
    "\n",
    "    return program_line\n",
    "\n",
    "program_line = load_input(settings)"
   ]
  },
  {
   "cell_type": "code",
   "execution_count": 297,
   "metadata": {},
   "outputs": [],
   "source": [
    "#Work through the programe line backwards to find the minimum starting value for A\n",
    "#This function is a streamlined version of iterating through my program line using hardcoded operations\n",
    "def find_next(a_1, target, all=False):\n",
    "\n",
    "    #Every iteration, A is divided by 8 and truncate\n",
    "    #Therefore the A of the previous generation can only be 1 of 8 values\n",
    "    a_0_min = a_1 * 8\n",
    "    a_0_max = (a_1 * 8) + 7\n",
    "\n",
    "    #Since A is only 0 in the final iteration, prevent a_0 being set to 1 when a_1 is zero\n",
    "    if a_1 == 0:\n",
    "        a_0_min = 1\n",
    "\n",
    "    #All values of a where the target is outputed for this generation\n",
    "    all_a = []\n",
    "    for a in range(a_0_min, a_0_max+1):\n",
    "        #The output for this iteration hardcoded to a single command\n",
    "        if ((a%8) ^ int(a/(2**((a%8)^3))) % 8) == target:\n",
    "            all_a.append(a)\n",
    " \n",
    "    #If a value of a was found, return all of them\n",
    "    return all_a"
   ]
  },
  {
   "cell_type": "code",
   "execution_count": 298,
   "metadata": {},
   "outputs": [],
   "source": [
    "#My programe line\n",
    "desired = [2,4,1,3,7,5,4,1,1,3,0,3,5,5,3,0]\n",
    "\n",
    "#Iterate through the desired output list until values of A are found\n",
    "def find_sol(a_1, desired):\n",
    "    sols = []\n",
    "    #Find all values of A for the next iteration\n",
    "    res = find_next(a_1, desired[-1])\n",
    "    #Check if finished processing the entire program line\n",
    "    if len(desired) == 1:\n",
    "        return res\n",
    "    #Recursively check each option, one level further\n",
    "    for a_0 in res:\n",
    "        sols += find_sol(a_0, desired[:-1])\n",
    "    return sols"
   ]
  },
  {
   "cell_type": "code",
   "execution_count": 299,
   "metadata": {},
   "outputs": [
    {
     "data": {
      "text/plain": [
       "[108107566389757]"
      ]
     },
     "execution_count": 299,
     "metadata": {},
     "output_type": "execute_result"
    }
   ],
   "source": [
    "find_sol(0, desired)"
   ]
  }
 ],
 "metadata": {
  "kernelspec": {
   "display_name": "base",
   "language": "python",
   "name": "python3"
  },
  "language_info": {
   "codemirror_mode": {
    "name": "ipython",
    "version": 3
   },
   "file_extension": ".py",
   "mimetype": "text/x-python",
   "name": "python",
   "nbconvert_exporter": "python",
   "pygments_lexer": "ipython3",
   "version": "3.12.7"
  }
 },
 "nbformat": 4,
 "nbformat_minor": 2
}
