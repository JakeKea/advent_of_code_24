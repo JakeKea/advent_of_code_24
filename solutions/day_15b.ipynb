{
 "cells": [
  {
   "cell_type": "markdown",
   "metadata": {},
   "source": [
    "#### Day 15 - B\n",
    "Complete the robot instructions and monitor the warehouse layout.\n",
    "\n",
    "The grid is now doubled in size."
   ]
  },
  {
   "cell_type": "code",
   "execution_count": 113,
   "metadata": {},
   "outputs": [],
   "source": [
    "#Import Libraries and settings\n",
    "from copy import deepcopy\n",
    "\n",
    "settings = {\n",
    "    \"day\": 15,\n",
    "    \"test_data\": 0\n",
    "}"
   ]
  },
  {
   "cell_type": "code",
   "execution_count": 114,
   "metadata": {},
   "outputs": [],
   "source": [
    "#Load Input\n",
    "def load_input(settings):\n",
    "    #Derrive input file name\n",
    "    if settings[\"test_data\"]:\n",
    "        data_subdir = \"test\"\n",
    "    else:\n",
    "        data_subdir = \"actual\"\n",
    "\n",
    "    data_fp = f\"./../input/{data_subdir}/{settings[\"day\"]}.txt\"\n",
    "\n",
    "    #Open and read the file\n",
    "    with open(data_fp) as f:\n",
    "        lines = f.read().split('\\n')\n",
    "\n",
    "    #Save grid to 2D array and inputs to seperate array\n",
    "    at_grid = True\n",
    "    inputs = []\n",
    "    grid = []\n",
    "    for idx_y, line in enumerate(lines):\n",
    "\n",
    "        #Check if the grid has finished\n",
    "        if line == \"\":\n",
    "            at_grid = False\n",
    "        else:\n",
    "            if at_grid:\n",
    "                line_large = \"\"\n",
    "                for char in line:\n",
    "                    if char == \"#\":\n",
    "                        line_large += \"##\"\n",
    "                    elif char == \".\":\n",
    "                        line_large += \"..\"\n",
    "                    elif char == \"O\":\n",
    "                        line_large += \"[]\"\n",
    "                    else:\n",
    "                        robot_loc = (len(line_large), idx_y)\n",
    "                        line_large += \"@.\"\n",
    "\n",
    "                grid.append(list(line_large))\n",
    "            else:\n",
    "                inputs += list(line)\n",
    "\n",
    "    return grid, inputs, robot_loc\n",
    "\n",
    "grid_base, inputs, starting_loc = load_input(settings)"
   ]
  },
  {
   "cell_type": "code",
   "execution_count": 115,
   "metadata": {},
   "outputs": [],
   "source": [
    "grid = deepcopy(grid_base)"
   ]
  },
  {
   "cell_type": "code",
   "execution_count": 116,
   "metadata": {},
   "outputs": [],
   "source": [
    "def check_loc(grid, loc):\n",
    "    return grid[loc[1]][loc[0]]"
   ]
  },
  {
   "cell_type": "code",
   "execution_count": 117,
   "metadata": {},
   "outputs": [],
   "source": [
    "#Convert compass direction into a dir tuple\n",
    "def translate_step(dir_g, mag=1):\n",
    "    v = 0\n",
    "    h = 0\n",
    "\n",
    "    if \"^\" in dir_g:\n",
    "        v = -mag\n",
    "    elif \"v\" in dir_g:\n",
    "        v = mag\n",
    "\n",
    "    if \">\" in dir_g:\n",
    "        h = mag\n",
    "    elif \"<\" in dir_g:\n",
    "        h = -mag\n",
    "\n",
    "    return (h, v)\n",
    "\n",
    "#Apply a direction to a location\n",
    "def apply_move(loc, dir, mag=1):\n",
    "    step = translate_step(dir, mag)\n",
    "    return (loc[0]+step[0], loc[1]+step[1])\n",
    "\n",
    "#Test the next move\n",
    "def try_next_move(grid, c_loc, dir):\n",
    "    #Get character for current location\n",
    "    c_char = check_loc(grid, c_loc)\n",
    "    #Get the next location and character currently in the space\n",
    "    next_loc = apply_move(c_loc, dir)\n",
    "    next_char = check_loc(grid, next_loc)\n",
    "\n",
    "    #If wall, do not return a move\n",
    "    if (next_char == \"#\"):\n",
    "        return []\n",
    "    #If open space, return a move\n",
    "    elif (next_char == \".\"):\n",
    "        return [(c_char, c_loc, next_loc)]\n",
    "    #If a box, check if the box can move and domino effect\n",
    "    elif (next_char == \"[\") or (next_char == \"]\"):\n",
    "        #If dir is < or >, handle as normal\n",
    "        if dir == \"<\" or dir == \">\":\n",
    "            #Get the fallout from moving this box\n",
    "            res = try_next_move(grid, next_loc, dir)\n",
    "            #If no res then box cannot move\n",
    "            if res == []:\n",
    "                return []\n",
    "            #If res then move robot along with box(es)\n",
    "            else:\n",
    "                return [(c_char, c_loc, next_loc)] + res\n",
    "        #If dir is ^ or v then move both sections seperate and combine the result\n",
    "        else:\n",
    "            if next_char == \"[\":\n",
    "                next_loc_l = next_loc\n",
    "                next_loc_r = apply_move(next_loc, \">\")\n",
    "            else:\n",
    "                next_loc_l = apply_move(next_loc, \"<\")\n",
    "                next_loc_r = next_loc\n",
    "\n",
    "            #Attempt to move both halves of the box seperately\n",
    "            res_l = try_next_move(grid, next_loc_l, dir)\n",
    "            res_r = try_next_move(grid, next_loc_r, dir)\n",
    "\n",
    "            #If both can move perform moves from both\n",
    "            if res_l and res_r:\n",
    "                #Remove overlap from res\n",
    "                res_l = [x for x in res_l if x not in res_r]\n",
    "\n",
    "                return [(c_char, c_loc, next_loc)] + res_l + res_r\n",
    "            else:\n",
    "                return []\n",
    "\n",
    "\n",
    "#Apply a list of moves to the grid\n",
    "def apply_next_moves(grid, moves):\n",
    "    \n",
    "    #Apply moves in reverse\n",
    "    for move in moves[::-1]:\n",
    "        old_loc = move[1]\n",
    "        new_loc = move[2]\n",
    "\n",
    "        #Check if the character moving is the robot\n",
    "        if move[0] == \"@\":\n",
    "            #Set n_loc so the robot's position can be updated\n",
    "            n_loc = new_loc\n",
    "\n",
    "        grid[new_loc[1]][new_loc[0]] = grid[old_loc[1]][old_loc[0]]\n",
    "        grid[old_loc[1]][old_loc[0]] = \".\"\n",
    "\n",
    "    return n_loc"
   ]
  },
  {
   "cell_type": "code",
   "execution_count": 118,
   "metadata": {},
   "outputs": [],
   "source": [
    "#Apply the input to the robot\n",
    "def apply_instructions(grid, inputs, c_loc):\n",
    "    for dir in inputs:\n",
    "        moves = try_next_move(grid, c_loc, dir)\n",
    "        if moves:\n",
    "            c_loc = apply_next_moves(grid, moves)\n",
    "\n",
    "def calculate_score(grid):\n",
    "    subtotal = 0\n",
    "    for idx_y, line in enumerate(grid):\n",
    "        for idx_x, space in enumerate(line):\n",
    "            if space == \"[\":\n",
    "                subtotal += (100*idx_y) + idx_x\n",
    "\n",
    "    return subtotal"
   ]
  },
  {
   "cell_type": "code",
   "execution_count": 119,
   "metadata": {},
   "outputs": [],
   "source": [
    "apply_instructions(grid, inputs, starting_loc)"
   ]
  },
  {
   "cell_type": "code",
   "execution_count": 120,
   "metadata": {},
   "outputs": [
    {
     "data": {
      "text/plain": [
       "1538862"
      ]
     },
     "execution_count": 120,
     "metadata": {},
     "output_type": "execute_result"
    }
   ],
   "source": [
    "calculate_score(grid)"
   ]
  },
  {
   "cell_type": "code",
   "execution_count": 121,
   "metadata": {},
   "outputs": [
    {
     "name": "stdout",
     "output_type": "stream",
     "text": [
      "####################################################################################################\n",
      "##[][]....[]..........[]..[][][]....[]..........[]........[].....[][]......[][][].......[][]..[]####\n",
      "##..[][]........[]......[]......##..[]......[]..............##..##[]....[][][]..............[]######\n",
      "##[]..[]..................[][]..[][][]..[]......##......##[]..##....[]..##.[].....##[]........[][]##\n",
      "##..[]........[][]....[]..................................##[].[]........[].........[]##......[][]##\n",
      "##[]....##..[]......[]......[]........[][]....[]........................[]......##[]##............##\n",
      "##..##..[][]..##........##....[]##..........##....[]........[][]........[]..[]..##..[]............##\n",
      "##......[]..[]..[]......[]......[]..[][][]......[]..........[][]..........................##....####\n",
      "##[]..##[]....[][]......[][][]..[]..##[]......[][][]..[][]..........[]..........................[]##\n",
      "##......[]..............[][][]....[]......######..[][]..##[]..[]............[]..................[]##\n",
      "##....[][][]......[]....[]..........[]..##[]..........[][]..[]............[]............[]........##\n",
      "##[]....[]##[]..[]..[]..[][]......##........[]##.............[][][].......##..[]..##...[].........##\n",
      "##..##..[][][][]......[][]..[]..[]....[]......................##[][]...[].[][][].[]...............##\n",
      "##........[]............[][]......[]........[]..........[]##..[][][]..[]##..##[][]........[]##[]..##\n",
      "##......[][]..[]....##........##..[][]....[][]..##......[].....[].[][][].[]..[][].[]####..##[][]..##\n",
      "##..[]..............[]........##..................[][]..##......[]........[].[].[][].......[].##[]##\n",
      "##......##....##.[]....[].........[]##................##[][]..[]##..........[][]............[][][]##\n",
      "##..[]........[][]..........[]....##....##[][]..[]......[]...............[]..[]...[]......[][][][]##\n",
      "##..##....[].[].............[]##..[][][]..[][][][][]....##..[]..............[]..........[]......[]##\n",
      "##[].[].......................##..[]........[][][]..[]....[]..##............##.......[]..[].......##\n",
      "##..##[][]..##.................[]...##..[][][][]..[]##[][][]..[][][]........[]........[]..........##\n",
      "##..##[]......##..........##......[][].......[][]...[][]..[]....[][]..................[].......[].##\n",
      "##..........##[]...[].##.....[].....[][][]##..[].[][]..........................[].........[]......##\n",
      "##..............[]##..[]..##[]......[][]..[][][][][]..............##.....[]...[]................[]##\n",
      "##..##.[]...[].............[].......[]....[][].[][].......##.....[][]....[]............[]..[]...[]##\n",
      "##.....[][].......[]...[][].........[]....[][]..[][][]....[]......##[]....##....................####\n",
      "##....[]..##....##..........##............[].[].[].[].....[].[]....[].......[][].....[].....##..[]##\n",
      "##....[]##[][]..........##...[]..........[]....[]...[][].[].##................[][][].[]...........##\n",
      "##....[][].[][].........[][]..[]....[]................##.[].[]..[]............[]..##....##.....[].##\n",
      "##..[].[]..............[]...[]##.............................[].[]##...................[].........##\n",
      "##............##.......[]...[][]................[]...........................[]...................##\n",
      "##.........[][].........[]...[].##....[]..[]##................##[]...............[]...[]........[]##\n",
      "##[]....[]..[][][]......[].[][].[]........................##....[]##.............[].[]..[]......[]##\n",
      "##[]..[]....##......##......[].....[].............................##...[]..[]....[][][].[][][]..####\n",
      "##[][]##..[]##.....[].......[].............................................[]....[]..[][][][].##[]##\n",
      "##[]........##.......[]............[]......................[][][]......[]..[].....[]..####[]####[]##\n",
      "##[].....[]..[].......[]...[]..[].......................[][][][][]....##[][]...[].##..[]##[][][][]##\n",
      "##....####[][]................##.[]...[]..............##[][]####....[]..[]##..[]...........[]...[]##\n",
      "##......[]..##................[]..##..[]##............[]####........[][]##.....[].................##\n",
      "##..####[]..[]...............[][]....[].[][].........[].[]##[]........[].[]...................[][]##\n",
      "##.[].....##...[]....[]...............[][]..........[]..[][][]..[].....[].##...[].##..##..........##\n",
      "##........[]##..[].[]...........##....[].........[]...[]........[].[][].[]....[]...[].............##\n",
      "##[]...[].......[]..[]..[].....[].....[]..##[][]......##..........[][]..[].....[]...##............##\n",
      "##......[].@....[].....[].......[]##.[].[][]....[]........##............[][]............[]..[]....##\n",
      "##......##..[]...[]...[][][][]....[]##........[]................[]............[]............[]....##\n",
      "####....[]##..[][]##..##[]..##......[][]..##...[].....................##.......[]...........##....##\n",
      "##......[]..[]..........[]..##.......[][].[]..##[]...........[].............[][][]..........[][]..##\n",
      "##..[]##..####[]........[]..................[]....[][][][]..[][][][]........##[][][][].[][][][][].##\n",
      "##[][]....[]......[][].......[][][][].....[][]...[].##[]##[]..[]..##[][]......[][][][][][]..##[]..##\n",
      "####################################################################################################\n"
     ]
    }
   ],
   "source": [
    "for line in grid:\n",
    "    print(\"\".join(line))"
   ]
  }
 ],
 "metadata": {
  "kernelspec": {
   "display_name": "base",
   "language": "python",
   "name": "python3"
  },
  "language_info": {
   "codemirror_mode": {
    "name": "ipython",
    "version": 3
   },
   "file_extension": ".py",
   "mimetype": "text/x-python",
   "name": "python",
   "nbconvert_exporter": "python",
   "pygments_lexer": "ipython3",
   "version": "3.12.7"
  }
 },
 "nbformat": 4,
 "nbformat_minor": 2
}
