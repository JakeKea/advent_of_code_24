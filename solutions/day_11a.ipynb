{
 "cells": [
  {
   "cell_type": "markdown",
   "metadata": {},
   "source": [
    "#### Day 11 - A\n",
    "Numbers in the list follow these rules every step:\n",
    "\n",
    "* 0 -> 1\n",
    "* If the number has an even number of digits, it splits into 2 items\n",
    "  * One item with the first half of the digits\n",
    "  * One item with the second half of the digits\n",
    "* x -> 2024 * x\n",
    "\n",
    "Get the number of items after 25 steps."
   ]
  },
  {
   "cell_type": "code",
   "execution_count": null,
   "metadata": {},
   "outputs": [],
   "source": [
    "#Import Libraries and settings\n",
    "\n",
    "settings = {\n",
    "    \"day\": 11,\n",
    "    \"test_data\": 0\n",
    "}"
   ]
  },
  {
   "cell_type": "code",
   "execution_count": 24,
   "metadata": {},
   "outputs": [],
   "source": [
    "#Load Input\n",
    "def load_input(settings):\n",
    "    #Derrive input file name\n",
    "    if settings[\"test_data\"]:\n",
    "        data_subdir = \"test\"\n",
    "    else:\n",
    "        data_subdir = \"actual\"\n",
    "\n",
    "    data_fp = f\"./../input/{data_subdir}/{settings[\"day\"]}.txt\"\n",
    "\n",
    "    #Open and read the file\n",
    "    with open(data_fp) as f:\n",
    "        nums = f.read().split(' ')\n",
    "\n",
    "    #Convert to a list of numbers\n",
    "    nums = [int(x) for x in nums]\n",
    "\n",
    "    return nums\n",
    "\n",
    "data_in = load_input(settings)"
   ]
  },
  {
   "cell_type": "code",
   "execution_count": 25,
   "metadata": {},
   "outputs": [],
   "source": [
    "# 0 -> 1\n",
    "def apply_rule_1():\n",
    "    return [1]\n",
    "\n",
    "# If the number has an even number of digits, it splits into 2 items\n",
    "#  * One item with the first half of the digits\n",
    "#  * One item with the second half of the digits\n",
    "def apply_rule_2(num):\n",
    "    digits = str(num)\n",
    "    mid_point = int(len(digits)/2)\n",
    "    return [int(digits[:mid_point]), int(digits[mid_point:])]\n",
    "\n",
    "# x -> 2024 * x\n",
    "def apply_rule_3(num):\n",
    "    return [num * 2024]\n",
    "\n",
    "#Apply n number of blinks to a base number\n",
    "def process_num(base, blinks, out=True):\n",
    "    \n",
    "    nums = [base]\n",
    "    #Iterate for specified number of blinks\n",
    "    for blink in range(blinks):\n",
    "        step = []\n",
    "        for num in nums:\n",
    "            #Decide which rule to apply and add the result to the step array\n",
    "            if num == 0:\n",
    "                step += apply_rule_1()\n",
    "            elif len(str(num))%2 == 0:\n",
    "                step += apply_rule_2(num)\n",
    "            else:\n",
    "                step += apply_rule_3(num)\n",
    "        nums = step\n",
    "\n",
    "        if out:\n",
    "            nums.sort()\n",
    "            print(f\"After {blink+1} blinks: \", nums)\n",
    "\n",
    "    return len(nums)"
   ]
  },
  {
   "cell_type": "code",
   "execution_count": 26,
   "metadata": {},
   "outputs": [],
   "source": [
    "#Process all numbers in the input\n",
    "def process_input(nums, blinks):\n",
    "    subtotal = 0\n",
    "    for num in nums:\n",
    "        subtotal += process_num(num, blinks, out=False)\n",
    "\n",
    "    return subtotal"
   ]
  },
  {
   "cell_type": "code",
   "execution_count": 28,
   "metadata": {},
   "outputs": [
    {
     "data": {
      "text/plain": [
       "218956"
      ]
     },
     "execution_count": 28,
     "metadata": {},
     "output_type": "execute_result"
    }
   ],
   "source": [
    "process_nums(data_in, blinks=25)"
   ]
  }
 ],
 "metadata": {
  "kernelspec": {
   "display_name": "base",
   "language": "python",
   "name": "python3"
  },
  "language_info": {
   "codemirror_mode": {
    "name": "ipython",
    "version": 3
   },
   "file_extension": ".py",
   "mimetype": "text/x-python",
   "name": "python",
   "nbconvert_exporter": "python",
   "pygments_lexer": "ipython3",
   "version": "3.12.4"
  }
 },
 "nbformat": 4,
 "nbformat_minor": 2
}
