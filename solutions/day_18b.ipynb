{
 "cells": [
  {
   "cell_type": "markdown",
   "metadata": {},
   "source": [
    "#### Day 18 - B\n",
    "Find the coordinates of the first byte to make the maze impossible to solve"
   ]
  },
  {
   "cell_type": "code",
   "execution_count": 28,
   "metadata": {},
   "outputs": [],
   "source": [
    "#Import Libraries and settings\n",
    "import bisect\n",
    "from copy import deepcopy\n",
    "\n",
    "settings = {\n",
    "    \"day\": 18,\n",
    "    \"test_data\": 0\n",
    "}"
   ]
  },
  {
   "cell_type": "code",
   "execution_count": 29,
   "metadata": {},
   "outputs": [],
   "source": [
    "#Load Input\n",
    "def load_input(settings):\n",
    "    #Derrive input file name\n",
    "    if settings[\"test_data\"]:\n",
    "        data_subdir = \"test\"\n",
    "        grid_dimen = (7,7)\n",
    "        to_fall = 12\n",
    "    else:\n",
    "        data_subdir = \"actual\"\n",
    "        grid_dimen = (71,71)\n",
    "        to_fall = 1024\n",
    "\n",
    "    data_fp = f\"./../input/{data_subdir}/{settings[\"day\"]}.txt\"\n",
    "\n",
    "    #Open and read the file\n",
    "    with open(data_fp) as f:\n",
    "        lines = f.read().split('\\n')\n",
    "\n",
    "    byte_loc = []\n",
    "    for line in lines:\n",
    "        coords = line.split(\",\")\n",
    "        byte_loc.append((int(coords[0]), int(coords[1])))\n",
    "\n",
    "\n",
    "    return byte_loc, grid_dimen, to_fall\n",
    "\n",
    "byte_loc, grid_dimen, to_fall = load_input(settings)\n",
    "GRID_DIMENSIONS = grid_dimen\n",
    "BYTES_TO_FALL = to_fall"
   ]
  },
  {
   "cell_type": "code",
   "execution_count": 30,
   "metadata": {},
   "outputs": [],
   "source": [
    "#Convert compass direction into a dir tuple\n",
    "def translate_step(dir_g, mag=1):\n",
    "    v = 0\n",
    "    h = 0\n",
    "\n",
    "    if \"^\" in dir_g:\n",
    "        v = -mag\n",
    "    elif \"v\" in dir_g:\n",
    "        v = mag\n",
    "\n",
    "    if \">\" in dir_g:\n",
    "        h = mag\n",
    "    elif \"<\" in dir_g:\n",
    "        h = -mag\n",
    "\n",
    "    return (h, v)\n",
    "\n",
    "#Apply a direction to a location\n",
    "def apply_move(loc, dir, mag=1):\n",
    "    step = translate_step(dir, mag)\n",
    "    return (loc[0]+step[0], loc[1]+step[1])\n",
    "\n",
    "#Get all neighbours to consider for a space\n",
    "def get_neighbours(grid, loc, history):\n",
    "    dirs = [\"^\", \">\", \"v\", \"<\"]\n",
    "    nbs = []\n",
    "    base_cost = history[loc]\n",
    "\n",
    "    for pos_dir in dirs:\n",
    "        next_loc = apply_move(loc, pos_dir)\n",
    "        if (\n",
    "            next_loc[0] >= 0 and \n",
    "            next_loc[0] < GRID_DIMENSIONS[0] and\n",
    "            next_loc[1] >= 0 and\n",
    "            next_loc[1] < GRID_DIMENSIONS[1]):\n",
    "            if grid[next_loc[1]][next_loc[0]] != \"#\":\n",
    "                if next_loc not in history.keys():\n",
    "                    next_cost = base_cost + 1\n",
    "                    history[next_loc] = next_cost\n",
    "                    nbs.append((next_loc, next_cost))\n",
    "\n",
    "    return nbs\n"
   ]
  },
  {
   "cell_type": "code",
   "execution_count": 31,
   "metadata": {},
   "outputs": [
    {
     "data": {
      "text/plain": [
       "3450"
      ]
     },
     "execution_count": 31,
     "metadata": {},
     "output_type": "execute_result"
    }
   ],
   "source": [
    "len(byte_loc)"
   ]
  },
  {
   "cell_type": "code",
   "execution_count": 32,
   "metadata": {},
   "outputs": [],
   "source": [
    "#Build a grid with fallen bytes\n",
    "def build_grid(bytez, grid_dimen):\n",
    "    #Build empty grid\n",
    "    grid = []\n",
    "    for idx_y in range(grid_dimen[1]):\n",
    "        row = []\n",
    "        for idx_x in range(grid_dimen[0]):\n",
    "            row.append(\".\")\n",
    "        grid.append(row)\n",
    "\n",
    "    #Populate start and end spaces\n",
    "    grid[0][0] = \"S\"\n",
    "    grid[grid_dimen[1]-1][grid_dimen[0]-1] = \"E\"\n",
    "\n",
    "    for byte in bytez:\n",
    "        grid[byte[1]][byte[0]] = \"#\"\n",
    "\n",
    "    return grid"
   ]
  },
  {
   "cell_type": "code",
   "execution_count": 33,
   "metadata": {},
   "outputs": [],
   "source": [
    "#Algorithm to find the minimum path between S and E\n",
    "def breadth_first(bytez, starting_loc=(0,0), end_loc=(GRID_DIMENSIONS[0]-1, GRID_DIMENSIONS[1]-1)):\n",
    "    grid = build_grid(bytez, GRID_DIMENSIONS)\n",
    "\n",
    "    #Track the history of which spaces were visited\n",
    "    history = {starting_loc:0}\n",
    "    #Maintain a queue of spaces to explore\n",
    "    queue = [(starting_loc, 0)]\n",
    "    \n",
    "    #Iterate while there are spaces to explore\n",
    "    while queue:\n",
    "        next_move = queue[0]\n",
    "        loc = next_move[0]\n",
    "        queue.pop(0)\n",
    "\n",
    "        #Get all neighbouring spaces that are unexplored and open to move to\n",
    "        nbs = get_neighbours(grid, loc, history)\n",
    "        for future_move in nbs:\n",
    "            #If the end of the maze is found, return the number of steps\n",
    "            if future_move[0] == end_loc: \n",
    "                return grid, future_move[1]\n",
    "            #Add next spaces to explore to the queue ordered by cost (number of steps)\n",
    "            bisect.insort(queue, future_move, key=lambda x:x[1])\n",
    "\n",
    "    return False"
   ]
  },
  {
   "cell_type": "code",
   "execution_count": 42,
   "metadata": {},
   "outputs": [
    {
     "name": "stdout",
     "output_type": "stream",
     "text": [
      "2954 bytes fell. Delta from 1024: 1930\n",
      "(46, 28)\n"
     ]
    }
   ],
   "source": [
    "#Iterate until no solution found\n",
    "offset = 1900 #Set to 1900 as it was found there is a solution for the first 1900 bytes\n",
    "res = True\n",
    "while res:\n",
    "    offset += 1\n",
    "    if offset % 100 == 0:\n",
    "        print(offset)\n",
    "    res = breadth_first(byte_loc[:BYTES_TO_FALL + offset])\n",
    "    if res:\n",
    "        grid_fin = res[0]\n",
    "\n",
    "#Print output\n",
    "print(BYTES_TO_FALL + offset, \"bytes fell. Delta from 1024:\", offset)\n",
    "print(byte_loc[BYTES_TO_FALL + offset - 1])"
   ]
  }
 ],
 "metadata": {
  "kernelspec": {
   "display_name": "base",
   "language": "python",
   "name": "python3"
  },
  "language_info": {
   "codemirror_mode": {
    "name": "ipython",
    "version": 3
   },
   "file_extension": ".py",
   "mimetype": "text/x-python",
   "name": "python",
   "nbconvert_exporter": "python",
   "pygments_lexer": "ipython3",
   "version": "3.12.7"
  }
 },
 "nbformat": 4,
 "nbformat_minor": 2
}
